{
 "cells": [
  {
   "cell_type": "markdown",
   "metadata": {},
   "source": [
    "# Importing request"
   ]
  },
  {
   "cell_type": "code",
   "execution_count": 3,
   "metadata": {},
   "outputs": [],
   "source": [
    "import requests\n",
    "import json\n",
    "from pprint import pprint\n",
    "import pandas as pd\n",
    "import random\n",
    "import statsmodels.api as sm\n",
    "import matplotlib.pyplot as plt\n",
    "\n",
    "from sklearn.linear_model import LinearRegression\n",
    "from sklearn.model_selection import train_test_split\n",
    "from sklearn.preprocessing import StandardScaler\n",
    "from sklearn.metrics import r2_score\n",
    "\n",
    "import numpy as np\n",
    "from config import api_key\n",
    "from config import api_id\n",
    "from config import api_key2"
   ]
  },
  {
   "cell_type": "markdown",
   "metadata": {},
   "source": [
    "# Reading in MSA Crosswalk info for MSA codes"
   ]
  },
  {
   "cell_type": "code",
   "execution_count": 10,
   "metadata": {
    "scrolled": false
   },
   "outputs": [
    {
     "data": {
      "text/html": [
       "<div>\n",
       "<style scoped>\n",
       "    .dataframe tbody tr th:only-of-type {\n",
       "        vertical-align: middle;\n",
       "    }\n",
       "\n",
       "    .dataframe tbody tr th {\n",
       "        vertical-align: top;\n",
       "    }\n",
       "\n",
       "    .dataframe thead th {\n",
       "        text-align: right;\n",
       "    }\n",
       "</style>\n",
       "<table border=\"1\" class=\"dataframe\">\n",
       "  <thead>\n",
       "    <tr style=\"text-align: right;\">\n",
       "      <th></th>\n",
       "      <th>CBSA</th>\n",
       "    </tr>\n",
       "  </thead>\n",
       "  <tbody>\n",
       "    <tr>\n",
       "      <td>0</td>\n",
       "      <td>10100</td>\n",
       "    </tr>\n",
       "    <tr>\n",
       "      <td>2</td>\n",
       "      <td>10140</td>\n",
       "    </tr>\n",
       "    <tr>\n",
       "      <td>3</td>\n",
       "      <td>10180</td>\n",
       "    </tr>\n",
       "    <tr>\n",
       "      <td>6</td>\n",
       "      <td>10220</td>\n",
       "    </tr>\n",
       "    <tr>\n",
       "      <td>7</td>\n",
       "      <td>10260</td>\n",
       "    </tr>\n",
       "  </tbody>\n",
       "</table>\n",
       "</div>"
      ],
      "text/plain": [
       "    CBSA\n",
       "0  10100\n",
       "2  10140\n",
       "3  10180\n",
       "6  10220\n",
       "7  10260"
      ]
     },
     "execution_count": 10,
     "metadata": {},
     "output_type": "execute_result"
    }
   ],
   "source": [
    "file = \"../data/msa_crosswalk.csv\"\n",
    "crosswalk = pd.read_csv(file)\n",
    "crosswalk1 = crosswalk[['CBSA Code']].rename(columns = {'CBSA Code':'CBSA'}).dropna().drop_duplicates()\n",
    "crosswalk1.head()"
   ]
  },
  {
   "cell_type": "markdown",
   "metadata": {},
   "source": [
    "# API Call - Pollution Part 1\n",
    "using a for loop to loop through three years work of PM2.5 data"
   ]
  },
  {
   "cell_type": "code",
   "execution_count": 12,
   "metadata": {
    "scrolled": false
   },
   "outputs": [],
   "source": [
    "response_sample = []\n",
    "start = [\"20140101\"]\n",
    "end = [\"20141231\"]\n",
    "codes = crosswalk1['CBSA']\n",
    "\n",
    "\n",
    "for index in range(len(start)):\n",
    "    for each_msa in codes:\n",
    "        url = f\"https://aqs.epa.gov/data/api/sampleData/byCBSA?email={api_id}&key={api_key}&param=88101&bdate={start[index]}&edate={end[index]}&cbsa={each_msa}\"\n",
    "        response_sample.append(requests.get(url).json())"
   ]
  },
  {
   "cell_type": "code",
   "execution_count": 22,
   "metadata": {},
   "outputs": [
    {
     "data": {
      "text/plain": [
       "948"
      ]
     },
     "execution_count": 22,
     "metadata": {},
     "output_type": "execute_result"
    }
   ],
   "source": [
    "len(response_sample)"
   ]
  },
  {
   "cell_type": "code",
   "execution_count": 25,
   "metadata": {},
   "outputs": [
    {
     "data": {
      "text/plain": [
       "{'status': 'Failed',\n",
       " 'request_time': '2020-05-19T20:22:21.542-04:00',\n",
       " 'url': 'https://aqs.epa.gov/data/api/sampleData/byCBSA?email=candice.sessa10@gmail.com&key=dunfox31&param=88101&bdate=20140101&edate=20141231&cbsa=Internet%20Release%20Date:%20April%202016',\n",
       " 'error': ['cbsa code: Internet Release Date: April 2016, requires 5 digit numeric value.']}"
      ]
     },
     "execution_count": 25,
     "metadata": {},
     "output_type": "execute_result"
    }
   ],
   "source": [
    "response_sample[947]['Header'][0]"
   ]
  },
  {
   "cell_type": "markdown",
   "metadata": {},
   "source": [
    "# Pulling Data and putting in list\n",
    "There are two loops, the first loop is through the 33 different MSAs. Unfortunately the EPA does not always sample every 3 dyas like their website says. This leads to certain sampling sites having different lengths of samples. The second loop goes from 0 to the length of the number of samples they do have"
   ]
  },
  {
   "cell_type": "code",
   "execution_count": 28,
   "metadata": {},
   "outputs": [
    {
     "name": "stdout",
     "output_type": "stream",
     "text": [
      "CBSA 10500 not found\n",
      "CBSA 10500 not found\n",
      "CBSA 10500 not found\n"
     ]
    },
    {
     "data": {
      "text/html": [
       "<div>\n",
       "<style scoped>\n",
       "    .dataframe tbody tr th:only-of-type {\n",
       "        vertical-align: middle;\n",
       "    }\n",
       "\n",
       "    .dataframe tbody tr th {\n",
       "        vertical-align: top;\n",
       "    }\n",
       "\n",
       "    .dataframe thead th {\n",
       "        text-align: right;\n",
       "    }\n",
       "</style>\n",
       "<table border=\"1\" class=\"dataframe\">\n",
       "  <thead>\n",
       "    <tr style=\"text-align: right;\">\n",
       "      <th></th>\n",
       "      <th>time</th>\n",
       "      <th>date</th>\n",
       "      <th>cbsa_code</th>\n",
       "      <th>site</th>\n",
       "      <th>sample</th>\n",
       "    </tr>\n",
       "  </thead>\n",
       "  <tbody>\n",
       "    <tr>\n",
       "      <td>0</td>\n",
       "      <td>00:01</td>\n",
       "      <td>2014-01-02</td>\n",
       "      <td>10100</td>\n",
       "      <td>0003</td>\n",
       "      <td>13.7</td>\n",
       "    </tr>\n",
       "    <tr>\n",
       "      <td>1</td>\n",
       "      <td>00:01</td>\n",
       "      <td>2014-01-08</td>\n",
       "      <td>10100</td>\n",
       "      <td>0003</td>\n",
       "      <td>6.1</td>\n",
       "    </tr>\n",
       "    <tr>\n",
       "      <td>2</td>\n",
       "      <td>00:01</td>\n",
       "      <td>2014-01-14</td>\n",
       "      <td>10100</td>\n",
       "      <td>0003</td>\n",
       "      <td>3.6</td>\n",
       "    </tr>\n",
       "    <tr>\n",
       "      <td>3</td>\n",
       "      <td>00:01</td>\n",
       "      <td>2014-01-20</td>\n",
       "      <td>10100</td>\n",
       "      <td>0003</td>\n",
       "      <td>3.1</td>\n",
       "    </tr>\n",
       "    <tr>\n",
       "      <td>4</td>\n",
       "      <td>00:01</td>\n",
       "      <td>2014-01-26</td>\n",
       "      <td>10100</td>\n",
       "      <td>0003</td>\n",
       "      <td>2.4</td>\n",
       "    </tr>\n",
       "  </tbody>\n",
       "</table>\n",
       "</div>"
      ],
      "text/plain": [
       "    time        date cbsa_code  site  sample\n",
       "0  00:01  2014-01-02     10100  0003    13.7\n",
       "1  00:01  2014-01-08     10100  0003     6.1\n",
       "2  00:01  2014-01-14     10100  0003     3.6\n",
       "3  00:01  2014-01-20     10100  0003     3.1\n",
       "4  00:01  2014-01-26     10100  0003     2.4"
      ]
     },
     "execution_count": 28,
     "metadata": {},
     "output_type": "execute_result"
    }
   ],
   "source": [
    "time = []\n",
    "date = []\n",
    "cbsa_code = []\n",
    "site = []\n",
    "sample = []\n",
    "\n",
    "\n",
    "for x in range(len(response_sample)):\n",
    "# for x in range(0,32):\n",
    "    try:\n",
    "        for y in range(0,response_sample[x]['Header'][0]['rows']):\n",
    "            time.append(response_sample[x]['Data'][y]['time_local'])\n",
    "            date.append(response_sample[x]['Data'][y]['date_local'])\n",
    "            cbsa_code.append(response_sample[x]['Data'][y]['cbsa_code'])\n",
    "            site.append(response_sample[x]['Data'][y]['site_number'])\n",
    "            sample.append(response_sample[x]['Data'][y]['sample_measurement'])\n",
    "    except:\n",
    "        print(f'CBSA {cbsa_code[y]} not found')\n",
    "\n",
    "columns = ['time','date','cbsa_code','site','sample']\n",
    "df_sample = pd.DataFrame(data = list(zip(time,date,cbsa_code,site,sample)), columns = columns)\n",
    "\n",
    "df_sample.head()"
   ]
  },
  {
   "cell_type": "markdown",
   "metadata": {},
   "source": [
    "# Converting date to DateTime\n",
    "needed to group by month which is format that Oil Data is in"
   ]
  },
  {
   "cell_type": "code",
   "execution_count": 29,
   "metadata": {},
   "outputs": [
    {
     "name": "stdout",
     "output_type": "stream",
     "text": [
      "    time       date cbsa_code  site  sample\n",
      "0  00:01 2014-01-02     10100  0003    13.7\n",
      "---------------------------------------------------------\n",
      "There are 2868125 rows of PM2.5 data\n"
     ]
    }
   ],
   "source": [
    "df_sample['date'] = pd.to_datetime(df_sample.date,format = '%Y-%m')\n",
    "print(df_sample.head(1))\n",
    "print('---------------------------------------------------------')\n",
    "print(\"There are \"+ str(len(df_sample)) +\" rows of PM2.5 data\")"
   ]
  },
  {
   "cell_type": "code",
   "execution_count": 30,
   "metadata": {},
   "outputs": [
    {
     "data": {
      "text/html": [
       "<div>\n",
       "<style scoped>\n",
       "    .dataframe tbody tr th:only-of-type {\n",
       "        vertical-align: middle;\n",
       "    }\n",
       "\n",
       "    .dataframe tbody tr th {\n",
       "        vertical-align: top;\n",
       "    }\n",
       "\n",
       "    .dataframe thead th {\n",
       "        text-align: right;\n",
       "    }\n",
       "</style>\n",
       "<table border=\"1\" class=\"dataframe\">\n",
       "  <thead>\n",
       "    <tr style=\"text-align: right;\">\n",
       "      <th></th>\n",
       "      <th>time</th>\n",
       "      <th>date</th>\n",
       "      <th>cbsa_code</th>\n",
       "      <th>site</th>\n",
       "      <th>sample</th>\n",
       "      <th>month_year</th>\n",
       "    </tr>\n",
       "  </thead>\n",
       "  <tbody>\n",
       "    <tr>\n",
       "      <td>0</td>\n",
       "      <td>00:01</td>\n",
       "      <td>2014-01-02</td>\n",
       "      <td>10100</td>\n",
       "      <td>0003</td>\n",
       "      <td>13.7</td>\n",
       "      <td>01-2014</td>\n",
       "    </tr>\n",
       "  </tbody>\n",
       "</table>\n",
       "</div>"
      ],
      "text/plain": [
       "    time       date cbsa_code  site  sample month_year\n",
       "0  00:01 2014-01-02     10100  0003    13.7    01-2014"
      ]
     },
     "execution_count": 30,
     "metadata": {},
     "output_type": "execute_result"
    }
   ],
   "source": [
    "df_sample['month_year'] = df_sample['date'].dt.strftime('%m-%Y')\n",
    "df_sample.head(1)"
   ]
  },
  {
   "cell_type": "markdown",
   "metadata": {},
   "source": [
    "converting sample to float to be used for regression/analysis later"
   ]
  },
  {
   "cell_type": "code",
   "execution_count": 31,
   "metadata": {},
   "outputs": [],
   "source": [
    "df_sample= df_sample.astype({'sample': float})"
   ]
  },
  {
   "cell_type": "markdown",
   "metadata": {},
   "source": [
    "# Grouping Hourly Data by day & Merging\n",
    "PM2.5 data is organized by hour, but we need it on a daily level so it can map in with the AQI levels. First we do a groupby to get daily levels, then we need to remerge with the original data to get the categorical data back in (county, site, lat, lon)"
   ]
  },
  {
   "cell_type": "code",
   "execution_count": 32,
   "metadata": {},
   "outputs": [
    {
     "name": "stdout",
     "output_type": "stream",
     "text": [
      "      month_year cbsa_code  site     sample\n",
      "10010    12-2014     49740  8011   5.511440\n",
      "9384     12-2014     19300  0010   7.188889\n",
      "9461     12-2014     22800  0008  13.645455\n",
      "-----------------------------------------\n",
      "There are 10011 rows after grouping\n"
     ]
    }
   ],
   "source": [
    "df_sample1 = df_sample[['site','sample','month_year','cbsa_code']].groupby(['month_year','cbsa_code','site']).mean().reset_index().sort_values('month_year',ascending = False)\n",
    "df_sample1.head()\n",
    "len(df_sample1)\n",
    "print(df_sample1.head(3))\n",
    "print('-----------------------------------------')\n",
    "print('There are '+ str(len(df_sample1)) + ' rows after grouping')"
   ]
  },
  {
   "cell_type": "markdown",
   "metadata": {},
   "source": [
    "# Exporting all CBSA EPA locations"
   ]
  },
  {
   "cell_type": "code",
   "execution_count": 37,
   "metadata": {},
   "outputs": [],
   "source": [
    "df_sample1.to_csv('../data/pm25_all_cbsa_2014')"
   ]
  }
 ],
 "metadata": {
  "kernelspec": {
   "display_name": "Python 3",
   "language": "python",
   "name": "python3"
  },
  "language_info": {
   "codemirror_mode": {
    "name": "ipython",
    "version": 3
   },
   "file_extension": ".py",
   "mimetype": "text/x-python",
   "name": "python",
   "nbconvert_exporter": "python",
   "pygments_lexer": "ipython3",
   "version": "3.7.4"
  }
 },
 "nbformat": 4,
 "nbformat_minor": 2
}
