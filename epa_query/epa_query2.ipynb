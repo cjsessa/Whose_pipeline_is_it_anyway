{
 "cells": [
  {
   "cell_type": "markdown",
   "metadata": {},
   "source": [
    "# Importing request"
   ]
  },
  {
   "cell_type": "code",
   "execution_count": 1,
   "metadata": {},
   "outputs": [],
   "source": [
    "import requests\n",
    "import json\n",
    "from pprint import pprint\n",
    "import pandas as pd\n",
    "import random\n",
    "from config import api_key\n",
    "from config import api_id\n",
    "from config import api_key2"
   ]
  },
  {
   "cell_type": "markdown",
   "metadata": {},
   "source": [
    "# Creating random list for MSAs\n",
    "Keith wrote the code to generate the random list from the top polluting MSAs"
   ]
  },
  {
   "cell_type": "code",
   "execution_count": 2,
   "metadata": {},
   "outputs": [
    {
     "data": {
      "text/html": [
       "<div>\n",
       "<style scoped>\n",
       "    .dataframe tbody tr th:only-of-type {\n",
       "        vertical-align: middle;\n",
       "    }\n",
       "\n",
       "    .dataframe tbody tr th {\n",
       "        vertical-align: top;\n",
       "    }\n",
       "\n",
       "    .dataframe thead th {\n",
       "        text-align: right;\n",
       "    }\n",
       "</style>\n",
       "<table border=\"1\" class=\"dataframe\">\n",
       "  <thead>\n",
       "    <tr style=\"text-align: right;\">\n",
       "      <th></th>\n",
       "      <th>MSA</th>\n",
       "    </tr>\n",
       "  </thead>\n",
       "  <tbody>\n",
       "    <tr>\n",
       "      <td>0</td>\n",
       "      <td>Atlanta-Athens-Clarke County-Sandy Springs, G...</td>\n",
       "    </tr>\n",
       "    <tr>\n",
       "      <td>1</td>\n",
       "      <td>Brownsville-Harlingen-Raymondville, TX</td>\n",
       "    </tr>\n",
       "    <tr>\n",
       "      <td>2</td>\n",
       "      <td>Chicago-Naperville, IL-IN-WI</td>\n",
       "    </tr>\n",
       "    <tr>\n",
       "      <td>3</td>\n",
       "      <td>Cleveland-Akron-Canton, OH</td>\n",
       "    </tr>\n",
       "    <tr>\n",
       "      <td>4</td>\n",
       "      <td>Detroit-Warren-Ann Arbor, MI</td>\n",
       "    </tr>\n",
       "    <tr>\n",
       "      <td>5</td>\n",
       "      <td>Los Angeles-Long Beach, CA</td>\n",
       "    </tr>\n",
       "    <tr>\n",
       "      <td>6</td>\n",
       "      <td>McAllen-Edinburg, TX</td>\n",
       "    </tr>\n",
       "    <tr>\n",
       "      <td>7</td>\n",
       "      <td>Philadelphia-Reading-Camden, PA-NJ-DE-MD</td>\n",
       "    </tr>\n",
       "    <tr>\n",
       "      <td>8</td>\n",
       "      <td>Phoenix-Mesa, AZ</td>\n",
       "    </tr>\n",
       "  </tbody>\n",
       "</table>\n",
       "</div>"
      ],
      "text/plain": [
       "                                                 MSA\n",
       "0   Atlanta-Athens-Clarke County-Sandy Springs, G...\n",
       "1             Brownsville-Harlingen-Raymondville, TX\n",
       "2                       Chicago-Naperville, IL-IN-WI\n",
       "3                         Cleveland-Akron-Canton, OH\n",
       "4                       Detroit-Warren-Ann Arbor, MI\n",
       "5                         Los Angeles-Long Beach, CA\n",
       "6                               McAllen-Edinburg, TX\n",
       "7           Philadelphia-Reading-Camden, PA-NJ-DE-MD\n",
       "8                                   Phoenix-Mesa, AZ"
      ]
     },
     "execution_count": 2,
     "metadata": {},
     "output_type": "execute_result"
    }
   ],
   "source": [
    "# The data to load\n",
    "f = \"../data/msa.csv\"\n",
    "\n",
    "# Count the lines\n",
    "num_lines = sum(1 for l in open(f))\n",
    "\n",
    "# Sample size - retrieving header and 5 MSA's\n",
    "size = 10\n",
    "\n",
    "# The row indices to skip - make sure 0 is not included to keep the header\n",
    "skip_idx = random.sample(range(1, num_lines), num_lines - size)\n",
    "\n",
    "# Read the data\n",
    "msa = pd.read_csv(f, skiprows=skip_idx)\n",
    "\n",
    "# Display the sample\n",
    "msa\n"
   ]
  },
  {
   "cell_type": "markdown",
   "metadata": {},
   "source": [
    "# Striping Leading/Trailing Spaces for Merge"
   ]
  },
  {
   "cell_type": "code",
   "execution_count": 3,
   "metadata": {},
   "outputs": [
    {
     "data": {
      "text/html": [
       "<div>\n",
       "<style scoped>\n",
       "    .dataframe tbody tr th:only-of-type {\n",
       "        vertical-align: middle;\n",
       "    }\n",
       "\n",
       "    .dataframe tbody tr th {\n",
       "        vertical-align: top;\n",
       "    }\n",
       "\n",
       "    .dataframe thead th {\n",
       "        text-align: right;\n",
       "    }\n",
       "</style>\n",
       "<table border=\"1\" class=\"dataframe\">\n",
       "  <thead>\n",
       "    <tr style=\"text-align: right;\">\n",
       "      <th></th>\n",
       "      <th>MSA</th>\n",
       "      <th>MSA1</th>\n",
       "    </tr>\n",
       "  </thead>\n",
       "  <tbody>\n",
       "    <tr>\n",
       "      <td>4</td>\n",
       "      <td>Detroit-Warren-Ann Arbor, MI</td>\n",
       "      <td>Detroit-Warren-Ann Arbor, MI</td>\n",
       "    </tr>\n",
       "  </tbody>\n",
       "</table>\n",
       "</div>"
      ],
      "text/plain": [
       "                             MSA                          MSA1\n",
       "4   Detroit-Warren-Ann Arbor, MI  Detroit-Warren-Ann Arbor, MI"
      ]
     },
     "execution_count": 3,
     "metadata": {},
     "output_type": "execute_result"
    }
   ],
   "source": [
    "msa['MSA1']=msa['MSA'].str.strip()\n",
    "msa.loc[msa['MSA1']=='Detroit-Warren-Ann Arbor, MI']"
   ]
  },
  {
   "cell_type": "markdown",
   "metadata": {},
   "source": [
    "# Reading in MSA Crosswalk info for MSA codes"
   ]
  },
  {
   "cell_type": "code",
   "execution_count": 4,
   "metadata": {
    "scrolled": false
   },
   "outputs": [
    {
     "data": {
      "text/html": [
       "<div>\n",
       "<style scoped>\n",
       "    .dataframe tbody tr th:only-of-type {\n",
       "        vertical-align: middle;\n",
       "    }\n",
       "\n",
       "    .dataframe tbody tr th {\n",
       "        vertical-align: top;\n",
       "    }\n",
       "\n",
       "    .dataframe thead th {\n",
       "        text-align: right;\n",
       "    }\n",
       "</style>\n",
       "<table border=\"1\" class=\"dataframe\">\n",
       "  <thead>\n",
       "    <tr style=\"text-align: right;\">\n",
       "      <th></th>\n",
       "      <th>CBSA Code</th>\n",
       "      <th>MSA1</th>\n",
       "    </tr>\n",
       "  </thead>\n",
       "  <tbody>\n",
       "    <tr>\n",
       "      <td>1503</td>\n",
       "      <td>41400</td>\n",
       "      <td>Youngstown-Warren, OH-PA</td>\n",
       "    </tr>\n",
       "    <tr>\n",
       "      <td>1893</td>\n",
       "      <td>49660</td>\n",
       "      <td>Youngstown-Warren, OH-PA</td>\n",
       "    </tr>\n",
       "    <tr>\n",
       "      <td>1865</td>\n",
       "      <td>48700</td>\n",
       "      <td>Williamsport-Lock Haven, PA</td>\n",
       "    </tr>\n",
       "    <tr>\n",
       "      <td>974</td>\n",
       "      <td>30820</td>\n",
       "      <td>Williamsport-Lock Haven, PA</td>\n",
       "    </tr>\n",
       "    <tr>\n",
       "      <td>1860</td>\n",
       "      <td>48620</td>\n",
       "      <td>Wichita-Arkansas City-Winfield, KS</td>\n",
       "    </tr>\n",
       "    <tr>\n",
       "      <td>...</td>\n",
       "      <td>...</td>\n",
       "      <td>...</td>\n",
       "    </tr>\n",
       "    <tr>\n",
       "      <td>660</td>\n",
       "      <td>24100</td>\n",
       "      <td>Albany-Schenectady, NY</td>\n",
       "    </tr>\n",
       "    <tr>\n",
       "      <td>31</td>\n",
       "      <td>10580</td>\n",
       "      <td>Albany-Schenectady, NY</td>\n",
       "    </tr>\n",
       "    <tr>\n",
       "      <td>656</td>\n",
       "      <td>24020</td>\n",
       "      <td>Albany-Schenectady, NY</td>\n",
       "    </tr>\n",
       "    <tr>\n",
       "      <td>60</td>\n",
       "      <td>11220</td>\n",
       "      <td>Albany-Schenectady, NY</td>\n",
       "    </tr>\n",
       "    <tr>\n",
       "      <td>769</td>\n",
       "      <td>26460</td>\n",
       "      <td>Albany-Schenectady, NY</td>\n",
       "    </tr>\n",
       "  </tbody>\n",
       "</table>\n",
       "<p>537 rows × 2 columns</p>\n",
       "</div>"
      ],
      "text/plain": [
       "     CBSA Code                                MSA1\n",
       "1503     41400            Youngstown-Warren, OH-PA\n",
       "1893     49660            Youngstown-Warren, OH-PA\n",
       "1865     48700         Williamsport-Lock Haven, PA\n",
       "974      30820         Williamsport-Lock Haven, PA\n",
       "1860     48620  Wichita-Arkansas City-Winfield, KS\n",
       "...        ...                                 ...\n",
       "660      24100              Albany-Schenectady, NY\n",
       "31       10580              Albany-Schenectady, NY\n",
       "656      24020              Albany-Schenectady, NY\n",
       "60       11220              Albany-Schenectady, NY\n",
       "769      26460              Albany-Schenectady, NY\n",
       "\n",
       "[537 rows x 2 columns]"
      ]
     },
     "execution_count": 4,
     "metadata": {},
     "output_type": "execute_result"
    }
   ],
   "source": [
    "file = \"../data/msa_crosswalk.csv\"\n",
    "crosswalk = pd.read_csv(file)\n",
    "crosswalk1 = crosswalk[['CBSA Code','CSA Title']].sort_values('CSA Title',ascending = False).rename(columns = {'CSA Title':'MSA1'}).dropna().drop_duplicates()\n",
    "crosswalk1"
   ]
  },
  {
   "cell_type": "markdown",
   "metadata": {},
   "source": [
    "# Joining MSA Crosswalk to Top MSAs to get the CBSA Codes needed for API Pulls"
   ]
  },
  {
   "cell_type": "code",
   "execution_count": 5,
   "metadata": {},
   "outputs": [
    {
     "data": {
      "text/html": [
       "<div>\n",
       "<style scoped>\n",
       "    .dataframe tbody tr th:only-of-type {\n",
       "        vertical-align: middle;\n",
       "    }\n",
       "\n",
       "    .dataframe tbody tr th {\n",
       "        vertical-align: top;\n",
       "    }\n",
       "\n",
       "    .dataframe thead th {\n",
       "        text-align: right;\n",
       "    }\n",
       "</style>\n",
       "<table border=\"1\" class=\"dataframe\">\n",
       "  <thead>\n",
       "    <tr style=\"text-align: right;\">\n",
       "      <th></th>\n",
       "      <th>CBSA Code</th>\n",
       "      <th>MSA1</th>\n",
       "      <th>MSA</th>\n",
       "    </tr>\n",
       "  </thead>\n",
       "  <tbody>\n",
       "    <tr>\n",
       "      <td>0</td>\n",
       "      <td>37980</td>\n",
       "      <td>Philadelphia-Reading-Camden, PA-NJ-DE-MD</td>\n",
       "      <td>Philadelphia-Reading-Camden, PA-NJ-DE-MD</td>\n",
       "    </tr>\n",
       "    <tr>\n",
       "      <td>1</td>\n",
       "      <td>36140</td>\n",
       "      <td>Philadelphia-Reading-Camden, PA-NJ-DE-MD</td>\n",
       "      <td>Philadelphia-Reading-Camden, PA-NJ-DE-MD</td>\n",
       "    </tr>\n",
       "    <tr>\n",
       "      <td>2</td>\n",
       "      <td>12100</td>\n",
       "      <td>Philadelphia-Reading-Camden, PA-NJ-DE-MD</td>\n",
       "      <td>Philadelphia-Reading-Camden, PA-NJ-DE-MD</td>\n",
       "    </tr>\n",
       "    <tr>\n",
       "      <td>3</td>\n",
       "      <td>47220</td>\n",
       "      <td>Philadelphia-Reading-Camden, PA-NJ-DE-MD</td>\n",
       "      <td>Philadelphia-Reading-Camden, PA-NJ-DE-MD</td>\n",
       "    </tr>\n",
       "    <tr>\n",
       "      <td>4</td>\n",
       "      <td>39740</td>\n",
       "      <td>Philadelphia-Reading-Camden, PA-NJ-DE-MD</td>\n",
       "      <td>Philadelphia-Reading-Camden, PA-NJ-DE-MD</td>\n",
       "    </tr>\n",
       "  </tbody>\n",
       "</table>\n",
       "</div>"
      ],
      "text/plain": [
       "  CBSA Code                                      MSA1  \\\n",
       "0     37980  Philadelphia-Reading-Camden, PA-NJ-DE-MD   \n",
       "1     36140  Philadelphia-Reading-Camden, PA-NJ-DE-MD   \n",
       "2     12100  Philadelphia-Reading-Camden, PA-NJ-DE-MD   \n",
       "3     47220  Philadelphia-Reading-Camden, PA-NJ-DE-MD   \n",
       "4     39740  Philadelphia-Reading-Camden, PA-NJ-DE-MD   \n",
       "\n",
       "                                         MSA  \n",
       "0   Philadelphia-Reading-Camden, PA-NJ-DE-MD  \n",
       "1   Philadelphia-Reading-Camden, PA-NJ-DE-MD  \n",
       "2   Philadelphia-Reading-Camden, PA-NJ-DE-MD  \n",
       "3   Philadelphia-Reading-Camden, PA-NJ-DE-MD  \n",
       "4   Philadelphia-Reading-Camden, PA-NJ-DE-MD  "
      ]
     },
     "execution_count": 5,
     "metadata": {},
     "output_type": "execute_result"
    }
   ],
   "source": [
    "msa_codes = pd.merge(crosswalk1,msa,\n",
    "                how = 'inner',\n",
    "                on = 'MSA1')\n",
    "\n",
    "msa_codes.head()"
   ]
  },
  {
   "cell_type": "markdown",
   "metadata": {},
   "source": [
    "# API Call - Pollution Part 1\n",
    "using a for loop to loop through three years work of PM2.5 data"
   ]
  },
  {
   "cell_type": "code",
   "execution_count": 6,
   "metadata": {
    "scrolled": false
   },
   "outputs": [],
   "source": [
    "state_code = '06'\n",
    "county = '075'\n",
    "\n",
    "response_sample = []\n",
    "start = [\"20160101\"]\n",
    "end = [\"20161231\"]\n",
    "codes = msa_codes['CBSA Code']\n",
    "\n",
    "\n",
    "for index in range(len(start)):\n",
    "    for each_msa in codes:\n",
    "        url = f\"https://aqs.epa.gov/data/api/sampleData/byCBSA?email={api_id}&key={api_key}&param=88101&bdate={start[index]}&edate={end[index]}&cbsa={each_msa}\"\n",
    "        response_sample.append(requests.get(url).json())"
   ]
  },
  {
   "cell_type": "markdown",
   "metadata": {},
   "source": [
    "# Pulling Data and putting in list\n",
    "There are two loops, the first loop is through the 33 different MSAs. Unfortunately the EPA does not always sample every 3 dyas like their website says. This leads to certain sampling sites having different lengths of samples. The second loop goes from 0 to the length of the number of samples they do have"
   ]
  },
  {
   "cell_type": "code",
   "execution_count": 31,
   "metadata": {},
   "outputs": [
    {
     "data": {
      "text/html": [
       "<div>\n",
       "<style scoped>\n",
       "    .dataframe tbody tr th:only-of-type {\n",
       "        vertical-align: middle;\n",
       "    }\n",
       "\n",
       "    .dataframe tbody tr th {\n",
       "        vertical-align: top;\n",
       "    }\n",
       "\n",
       "    .dataframe thead th {\n",
       "        text-align: right;\n",
       "    }\n",
       "</style>\n",
       "<table border=\"1\" class=\"dataframe\">\n",
       "  <thead>\n",
       "    <tr style=\"text-align: right;\">\n",
       "      <th></th>\n",
       "      <th>time</th>\n",
       "      <th>date</th>\n",
       "      <th>cbsa_code</th>\n",
       "      <th>lat</th>\n",
       "      <th>lon</th>\n",
       "      <th>site</th>\n",
       "      <th>sample</th>\n",
       "    </tr>\n",
       "  </thead>\n",
       "  <tbody>\n",
       "    <tr>\n",
       "      <td>0</td>\n",
       "      <td>00:00</td>\n",
       "      <td>2016-01-01</td>\n",
       "      <td>12100</td>\n",
       "      <td>39.36326</td>\n",
       "      <td>-74.431</td>\n",
       "      <td>1006</td>\n",
       "      <td>6.0</td>\n",
       "    </tr>\n",
       "    <tr>\n",
       "      <td>1</td>\n",
       "      <td>00:00</td>\n",
       "      <td>2016-01-07</td>\n",
       "      <td>12100</td>\n",
       "      <td>39.36326</td>\n",
       "      <td>-74.431</td>\n",
       "      <td>1006</td>\n",
       "      <td>8.4</td>\n",
       "    </tr>\n",
       "    <tr>\n",
       "      <td>2</td>\n",
       "      <td>00:00</td>\n",
       "      <td>2016-01-10</td>\n",
       "      <td>12100</td>\n",
       "      <td>39.36326</td>\n",
       "      <td>-74.431</td>\n",
       "      <td>1006</td>\n",
       "      <td>8.0</td>\n",
       "    </tr>\n",
       "    <tr>\n",
       "      <td>3</td>\n",
       "      <td>00:00</td>\n",
       "      <td>2016-01-13</td>\n",
       "      <td>12100</td>\n",
       "      <td>39.36326</td>\n",
       "      <td>-74.431</td>\n",
       "      <td>1006</td>\n",
       "      <td>6.9</td>\n",
       "    </tr>\n",
       "    <tr>\n",
       "      <td>4</td>\n",
       "      <td>00:00</td>\n",
       "      <td>2016-01-16</td>\n",
       "      <td>12100</td>\n",
       "      <td>39.36326</td>\n",
       "      <td>-74.431</td>\n",
       "      <td>1006</td>\n",
       "      <td>5.4</td>\n",
       "    </tr>\n",
       "  </tbody>\n",
       "</table>\n",
       "</div>"
      ],
      "text/plain": [
       "    time        date cbsa_code       lat     lon  site  sample\n",
       "0  00:00  2016-01-01     12100  39.36326 -74.431  1006     6.0\n",
       "1  00:00  2016-01-07     12100  39.36326 -74.431  1006     8.4\n",
       "2  00:00  2016-01-10     12100  39.36326 -74.431  1006     8.0\n",
       "3  00:00  2016-01-13     12100  39.36326 -74.431  1006     6.9\n",
       "4  00:00  2016-01-16     12100  39.36326 -74.431  1006     5.4"
      ]
     },
     "execution_count": 31,
     "metadata": {},
     "output_type": "execute_result"
    }
   ],
   "source": [
    "time = []\n",
    "date = []\n",
    "cbsa_code = []\n",
    "lat = []\n",
    "lon = []\n",
    "site = []\n",
    "sample = []\n",
    "\n",
    "\n",
    "for x in range(len(response_sample)):\n",
    "    for y in range(0,response_sample[x]['Header'][0]['rows']):\n",
    "        time.append(response_sample[x]['Data'][y]['time_local'])\n",
    "        date.append(response_sample[x]['Data'][y]['date_local'])\n",
    "        cbsa_code.append(response_sample[x]['Data'][y]['cbsa_code'])\n",
    "        lat.append(response_sample[x]['Data'][y]['latitude'])\n",
    "        lon.append(response_sample[x]['Data'][y]['longitude'])\n",
    "        site.append(response_sample[x]['Data'][y]['site_number'])\n",
    "        sample.append(response_sample[x]['Data'][y]['sample_measurement'])\n",
    "\n",
    "        \n",
    "columns = ['time','date','cbsa_code','lat','lon','site','sample']\n",
    "df_sample = pd.DataFrame(data = list(zip(time,date,cbsa_code,lat,lon,site,sample)), columns = columns)\n",
    "df_sample.head()"
   ]
  },
  {
   "cell_type": "markdown",
   "metadata": {},
   "source": [
    "# Converting date to DateTime\n",
    "needed to group by month which is format that Oil Data is in"
   ]
  },
  {
   "cell_type": "code",
   "execution_count": 74,
   "metadata": {},
   "outputs": [
    {
     "data": {
      "text/html": [
       "<div>\n",
       "<style scoped>\n",
       "    .dataframe tbody tr th:only-of-type {\n",
       "        vertical-align: middle;\n",
       "    }\n",
       "\n",
       "    .dataframe tbody tr th {\n",
       "        vertical-align: top;\n",
       "    }\n",
       "\n",
       "    .dataframe thead th {\n",
       "        text-align: right;\n",
       "    }\n",
       "</style>\n",
       "<table border=\"1\" class=\"dataframe\">\n",
       "  <thead>\n",
       "    <tr style=\"text-align: right;\">\n",
       "      <th></th>\n",
       "      <th>time</th>\n",
       "      <th>date</th>\n",
       "      <th>cbsa_code</th>\n",
       "      <th>lat</th>\n",
       "      <th>lon</th>\n",
       "      <th>site</th>\n",
       "      <th>sample</th>\n",
       "      <th>test</th>\n",
       "      <th>month_year</th>\n",
       "    </tr>\n",
       "  </thead>\n",
       "  <tbody>\n",
       "    <tr>\n",
       "      <td>0</td>\n",
       "      <td>00:00</td>\n",
       "      <td>2016-01-01</td>\n",
       "      <td>12100</td>\n",
       "      <td>39.36326</td>\n",
       "      <td>-74.431</td>\n",
       "      <td>1006</td>\n",
       "      <td>6.0</td>\n",
       "      <td>2016-01-01</td>\n",
       "      <td>01-2016</td>\n",
       "    </tr>\n",
       "  </tbody>\n",
       "</table>\n",
       "</div>"
      ],
      "text/plain": [
       "    time       date cbsa_code       lat     lon  site  sample       test  \\\n",
       "0  00:00 2016-01-01     12100  39.36326 -74.431  1006     6.0 2016-01-01   \n",
       "\n",
       "  month_year  \n",
       "0    01-2016  "
      ]
     },
     "execution_count": 74,
     "metadata": {},
     "output_type": "execute_result"
    }
   ],
   "source": [
    "df_sample['date'] = pd.to_datetime(df_sample.date,format = '%Y-%m')\n",
    "df_sample.head(1)"
   ]
  },
  {
   "cell_type": "code",
   "execution_count": 86,
   "metadata": {},
   "outputs": [
    {
     "data": {
      "text/html": [
       "<div>\n",
       "<style scoped>\n",
       "    .dataframe tbody tr th:only-of-type {\n",
       "        vertical-align: middle;\n",
       "    }\n",
       "\n",
       "    .dataframe tbody tr th {\n",
       "        vertical-align: top;\n",
       "    }\n",
       "\n",
       "    .dataframe thead th {\n",
       "        text-align: right;\n",
       "    }\n",
       "</style>\n",
       "<table border=\"1\" class=\"dataframe\">\n",
       "  <thead>\n",
       "    <tr style=\"text-align: right;\">\n",
       "      <th></th>\n",
       "      <th>time</th>\n",
       "      <th>date</th>\n",
       "      <th>cbsa_code</th>\n",
       "      <th>lat</th>\n",
       "      <th>lon</th>\n",
       "      <th>site</th>\n",
       "      <th>sample</th>\n",
       "      <th>test</th>\n",
       "      <th>month_year</th>\n",
       "    </tr>\n",
       "  </thead>\n",
       "  <tbody>\n",
       "    <tr>\n",
       "      <td>0</td>\n",
       "      <td>00:00</td>\n",
       "      <td>2016-01-01</td>\n",
       "      <td>12100</td>\n",
       "      <td>39.36326</td>\n",
       "      <td>-74.431</td>\n",
       "      <td>1006</td>\n",
       "      <td>6.0</td>\n",
       "      <td>2016-01-01</td>\n",
       "      <td>01-2016</td>\n",
       "    </tr>\n",
       "  </tbody>\n",
       "</table>\n",
       "</div>"
      ],
      "text/plain": [
       "    time       date cbsa_code       lat     lon  site  sample       test  \\\n",
       "0  00:00 2016-01-01     12100  39.36326 -74.431  1006     6.0 2016-01-01   \n",
       "\n",
       "  month_year  \n",
       "0    01-2016  "
      ]
     },
     "execution_count": 86,
     "metadata": {},
     "output_type": "execute_result"
    }
   ],
   "source": [
    "df_sample['month_year'] = df_sample['date'].dt.strftime('%m-%Y')\n",
    "df_sample.head(1)"
   ]
  },
  {
   "cell_type": "markdown",
   "metadata": {},
   "source": [
    "checking number of distinct sites"
   ]
  },
  {
   "cell_type": "code",
   "execution_count": 32,
   "metadata": {},
   "outputs": [
    {
     "data": {
      "text/plain": [
       "array(['1006', '0006', '0007', '0011', '0002', '0003', '0043', '1046',\n",
       "       '2002', '8001', '0306', '9004', '8005', '1016', '5001', '0009',\n",
       "       '0027', '2022', '1103', '1201', '2005', '4002', '9033', '1602',\n",
       "       '1302', '4004', '4008', '1004', '3001', '0021', '0001', '0015',\n",
       "       '0016', '0019', '0025', '0033', '0036', '0005', '0039', '0093',\n",
       "       '0095', '0008', '0017', '0020', '0023', '3002', '0034', '0038',\n",
       "       '0045', '0060', '0065', '1002', '0004', '0022', '0052', '0057',\n",
       "       '0076', '3103', '3301', '0026', '2004', '4201', '6005', '0024',\n",
       "       '1011', '4007', '0031'], dtype=object)"
      ]
     },
     "execution_count": 32,
     "metadata": {},
     "output_type": "execute_result"
    }
   ],
   "source": [
    "df_sample.site.unique()"
   ]
  },
  {
   "cell_type": "markdown",
   "metadata": {},
   "source": [
    "# Grouping Hourly Data by day & Merging\n",
    "PM2.5 data is organized by hour, but we need it on a daily level so it can map in with the AQI levels. First we do a groupby to get daily levels, then we need to remerge with the original data to get the categorical data back in (county, site, lat, lon)"
   ]
  },
  {
   "cell_type": "code",
   "execution_count": 78,
   "metadata": {},
   "outputs": [
    {
     "data": {
      "text/html": [
       "<div>\n",
       "<style scoped>\n",
       "    .dataframe tbody tr th:only-of-type {\n",
       "        vertical-align: middle;\n",
       "    }\n",
       "\n",
       "    .dataframe tbody tr th {\n",
       "        vertical-align: top;\n",
       "    }\n",
       "\n",
       "    .dataframe thead th {\n",
       "        text-align: right;\n",
       "    }\n",
       "</style>\n",
       "<table border=\"1\" class=\"dataframe\">\n",
       "  <thead>\n",
       "    <tr style=\"text-align: right;\">\n",
       "      <th></th>\n",
       "      <th>month_year</th>\n",
       "      <th>cbsa_code</th>\n",
       "      <th>site</th>\n",
       "      <th>sample</th>\n",
       "    </tr>\n",
       "  </thead>\n",
       "  <tbody>\n",
       "    <tr>\n",
       "      <td>1051</td>\n",
       "      <td>12-2016</td>\n",
       "      <td>47220</td>\n",
       "      <td>0007</td>\n",
       "      <td>8.327887</td>\n",
       "    </tr>\n",
       "    <tr>\n",
       "      <td>1007</td>\n",
       "      <td>12-2016</td>\n",
       "      <td>19820</td>\n",
       "      <td>0009</td>\n",
       "      <td>9.300000</td>\n",
       "    </tr>\n",
       "    <tr>\n",
       "      <td>987</td>\n",
       "      <td>12-2016</td>\n",
       "      <td>16980</td>\n",
       "      <td>1011</td>\n",
       "      <td>8.574171</td>\n",
       "    </tr>\n",
       "    <tr>\n",
       "      <td>988</td>\n",
       "      <td>12-2016</td>\n",
       "      <td>16980</td>\n",
       "      <td>1016</td>\n",
       "      <td>8.142857</td>\n",
       "    </tr>\n",
       "    <tr>\n",
       "      <td>989</td>\n",
       "      <td>12-2016</td>\n",
       "      <td>16980</td>\n",
       "      <td>2004</td>\n",
       "      <td>7.600000</td>\n",
       "    </tr>\n",
       "    <tr>\n",
       "      <td>...</td>\n",
       "      <td>...</td>\n",
       "      <td>...</td>\n",
       "      <td>...</td>\n",
       "      <td>...</td>\n",
       "    </tr>\n",
       "    <tr>\n",
       "      <td>61</td>\n",
       "      <td>01-2016</td>\n",
       "      <td>31080</td>\n",
       "      <td>2005</td>\n",
       "      <td>9.945455</td>\n",
       "    </tr>\n",
       "    <tr>\n",
       "      <td>62</td>\n",
       "      <td>01-2016</td>\n",
       "      <td>31080</td>\n",
       "      <td>2022</td>\n",
       "      <td>7.118182</td>\n",
       "    </tr>\n",
       "    <tr>\n",
       "      <td>63</td>\n",
       "      <td>01-2016</td>\n",
       "      <td>31080</td>\n",
       "      <td>4002</td>\n",
       "      <td>12.533333</td>\n",
       "    </tr>\n",
       "    <tr>\n",
       "      <td>64</td>\n",
       "      <td>01-2016</td>\n",
       "      <td>31080</td>\n",
       "      <td>4004</td>\n",
       "      <td>12.116667</td>\n",
       "    </tr>\n",
       "    <tr>\n",
       "      <td>0</td>\n",
       "      <td>01-2016</td>\n",
       "      <td>10300</td>\n",
       "      <td>0007</td>\n",
       "      <td>9.345455</td>\n",
       "    </tr>\n",
       "  </tbody>\n",
       "</table>\n",
       "<p>1052 rows × 4 columns</p>\n",
       "</div>"
      ],
      "text/plain": [
       "     month_year cbsa_code  site     sample\n",
       "1051    12-2016     47220  0007   8.327887\n",
       "1007    12-2016     19820  0009   9.300000\n",
       "987     12-2016     16980  1011   8.574171\n",
       "988     12-2016     16980  1016   8.142857\n",
       "989     12-2016     16980  2004   7.600000\n",
       "...         ...       ...   ...        ...\n",
       "61      01-2016     31080  2005   9.945455\n",
       "62      01-2016     31080  2022   7.118182\n",
       "63      01-2016     31080  4002  12.533333\n",
       "64      01-2016     31080  4004  12.116667\n",
       "0       01-2016     10300  0007   9.345455\n",
       "\n",
       "[1052 rows x 4 columns]"
      ]
     },
     "execution_count": 78,
     "metadata": {},
     "output_type": "execute_result"
    }
   ],
   "source": [
    "df_sample1 = df_sample[['site','sample','month_year','cbsa_code']].groupby(['month_year','cbsa_code','site']).mean().reset_index().sort_values('month_year',ascending = False)\n",
    "df_sample1.head()\n",
    "len(df_sample1)\n",
    "df_sample1"
   ]
  },
  {
   "cell_type": "markdown",
   "metadata": {},
   "source": [
    "# Same process for PM2.5 now for AQI\n",
    "AQI = Air Quality Index\n",
    "This is not done every day but every 1 - 3 days depending on how the EPA decided to track it."
   ]
  },
  {
   "cell_type": "code",
   "execution_count": 34,
   "metadata": {},
   "outputs": [],
   "source": [
    "response_daily = []\n",
    "start = [\"20160101\"]\n",
    "end = [\"20161231\"]\n",
    "codes = msa_codes['CBSA Code']\n",
    "\n",
    "for index in range(len(start)):\n",
    "    for each_msa in codes:\n",
    "        url = f\"https://aqs.epa.gov/data/api/dailyData/byCBSA?email={api_id}&key={api_key}&param=88101&bdate={start[index]}&edate={end[index]}&cbsa={each_msa}\"\n",
    "        response_daily.append(requests.get(url).json())"
   ]
  },
  {
   "cell_type": "code",
   "execution_count": 79,
   "metadata": {},
   "outputs": [
    {
     "data": {
      "text/plain": [
       "29"
      ]
     },
     "execution_count": 79,
     "metadata": {},
     "output_type": "execute_result"
    }
   ],
   "source": [
    "len(response_daily)"
   ]
  },
  {
   "cell_type": "code",
   "execution_count": 81,
   "metadata": {},
   "outputs": [
    {
     "data": {
      "text/html": [
       "<div>\n",
       "<style scoped>\n",
       "    .dataframe tbody tr th:only-of-type {\n",
       "        vertical-align: middle;\n",
       "    }\n",
       "\n",
       "    .dataframe tbody tr th {\n",
       "        vertical-align: top;\n",
       "    }\n",
       "\n",
       "    .dataframe thead th {\n",
       "        text-align: right;\n",
       "    }\n",
       "</style>\n",
       "<table border=\"1\" class=\"dataframe\">\n",
       "  <thead>\n",
       "    <tr style=\"text-align: right;\">\n",
       "      <th></th>\n",
       "      <th>date</th>\n",
       "      <th>aqi</th>\n",
       "      <th>cbsa_code</th>\n",
       "      <th>lat</th>\n",
       "      <th>lon</th>\n",
       "      <th>site</th>\n",
       "    </tr>\n",
       "  </thead>\n",
       "  <tbody>\n",
       "    <tr>\n",
       "      <td>0</td>\n",
       "      <td>2016-12-31</td>\n",
       "      <td>29.0</td>\n",
       "      <td>37980</td>\n",
       "      <td>39.988842</td>\n",
       "      <td>-75.207205</td>\n",
       "      <td>0076</td>\n",
       "    </tr>\n",
       "    <tr>\n",
       "      <td>5</td>\n",
       "      <td>2016-12-30</td>\n",
       "      <td>27.0</td>\n",
       "      <td>37980</td>\n",
       "      <td>39.988842</td>\n",
       "      <td>-75.207205</td>\n",
       "      <td>0076</td>\n",
       "    </tr>\n",
       "    <tr>\n",
       "      <td>10</td>\n",
       "      <td>2016-12-29</td>\n",
       "      <td>45.0</td>\n",
       "      <td>37980</td>\n",
       "      <td>39.988842</td>\n",
       "      <td>-75.207205</td>\n",
       "      <td>0076</td>\n",
       "    </tr>\n",
       "    <tr>\n",
       "      <td>15</td>\n",
       "      <td>2016-12-28</td>\n",
       "      <td>42.0</td>\n",
       "      <td>37980</td>\n",
       "      <td>39.988842</td>\n",
       "      <td>-75.207205</td>\n",
       "      <td>0076</td>\n",
       "    </tr>\n",
       "    <tr>\n",
       "      <td>20</td>\n",
       "      <td>2016-12-27</td>\n",
       "      <td>20.0</td>\n",
       "      <td>37980</td>\n",
       "      <td>39.988842</td>\n",
       "      <td>-75.207205</td>\n",
       "      <td>0076</td>\n",
       "    </tr>\n",
       "  </tbody>\n",
       "</table>\n",
       "</div>"
      ],
      "text/plain": [
       "          date   aqi cbsa_code        lat        lon  site\n",
       "0   2016-12-31  29.0     37980  39.988842 -75.207205  0076\n",
       "5   2016-12-30  27.0     37980  39.988842 -75.207205  0076\n",
       "10  2016-12-29  45.0     37980  39.988842 -75.207205  0076\n",
       "15  2016-12-28  42.0     37980  39.988842 -75.207205  0076\n",
       "20  2016-12-27  20.0     37980  39.988842 -75.207205  0076"
      ]
     },
     "execution_count": 81,
     "metadata": {},
     "output_type": "execute_result"
    }
   ],
   "source": [
    "date = []\n",
    "cbsa_code = []\n",
    "lat = []\n",
    "lon = []\n",
    "site = []\n",
    "aqi = []\n",
    "\n",
    "\n",
    "for x in range(len(response_daily)):\n",
    "    for y in range(0,response_daily[x]['Header'][0]['rows']):\n",
    "        date.append(response_daily[x]['Data'][y]['date_local'])\n",
    "        aqi.append(response_daily[x]['Data'][y]['aqi'])\n",
    "        cbsa_code.append(response_daily[x]['Data'][y]['cbsa_code'])\n",
    "        lat.append(response_daily[x]['Data'][y]['latitude'])\n",
    "        lon.append(response_daily[x]['Data'][y]['longitude'])\n",
    "        site.append(response_daily[x]['Data'][y]['site_number'])\n",
    "\n",
    "        \n",
    "columns = ['date','aqi','cbsa_code','lat','lon','site']\n",
    "df_daily = pd.DataFrame(data = list(zip(date,aqi,cbsa_code,lat,lon,site)), columns = columns).drop_duplicates().dropna()\n",
    "df_daily.head()"
   ]
  },
  {
   "cell_type": "code",
   "execution_count": 83,
   "metadata": {},
   "outputs": [
    {
     "data": {
      "text/html": [
       "<div>\n",
       "<style scoped>\n",
       "    .dataframe tbody tr th:only-of-type {\n",
       "        vertical-align: middle;\n",
       "    }\n",
       "\n",
       "    .dataframe tbody tr th {\n",
       "        vertical-align: top;\n",
       "    }\n",
       "\n",
       "    .dataframe thead th {\n",
       "        text-align: right;\n",
       "    }\n",
       "</style>\n",
       "<table border=\"1\" class=\"dataframe\">\n",
       "  <thead>\n",
       "    <tr style=\"text-align: right;\">\n",
       "      <th></th>\n",
       "      <th>date</th>\n",
       "      <th>aqi</th>\n",
       "      <th>cbsa_code</th>\n",
       "      <th>lat</th>\n",
       "      <th>lon</th>\n",
       "      <th>site</th>\n",
       "    </tr>\n",
       "  </thead>\n",
       "  <tbody>\n",
       "    <tr>\n",
       "      <td>0</td>\n",
       "      <td>2016-12-31</td>\n",
       "      <td>29.0</td>\n",
       "      <td>37980</td>\n",
       "      <td>39.988842</td>\n",
       "      <td>-75.207205</td>\n",
       "      <td>0076</td>\n",
       "    </tr>\n",
       "  </tbody>\n",
       "</table>\n",
       "</div>"
      ],
      "text/plain": [
       "        date   aqi cbsa_code        lat        lon  site\n",
       "0 2016-12-31  29.0     37980  39.988842 -75.207205  0076"
      ]
     },
     "execution_count": 83,
     "metadata": {},
     "output_type": "execute_result"
    }
   ],
   "source": [
    "df_daily['date'] = pd.to_datetime(df_daily.date,format = '%Y-%m')\n",
    "df_daily.head(1)"
   ]
  },
  {
   "cell_type": "code",
   "execution_count": 85,
   "metadata": {},
   "outputs": [
    {
     "data": {
      "text/html": [
       "<div>\n",
       "<style scoped>\n",
       "    .dataframe tbody tr th:only-of-type {\n",
       "        vertical-align: middle;\n",
       "    }\n",
       "\n",
       "    .dataframe tbody tr th {\n",
       "        vertical-align: top;\n",
       "    }\n",
       "\n",
       "    .dataframe thead th {\n",
       "        text-align: right;\n",
       "    }\n",
       "</style>\n",
       "<table border=\"1\" class=\"dataframe\">\n",
       "  <thead>\n",
       "    <tr style=\"text-align: right;\">\n",
       "      <th></th>\n",
       "      <th>date</th>\n",
       "      <th>aqi</th>\n",
       "      <th>cbsa_code</th>\n",
       "      <th>lat</th>\n",
       "      <th>lon</th>\n",
       "      <th>site</th>\n",
       "      <th>month_year</th>\n",
       "    </tr>\n",
       "  </thead>\n",
       "  <tbody>\n",
       "    <tr>\n",
       "      <td>0</td>\n",
       "      <td>2016-12-31</td>\n",
       "      <td>29.0</td>\n",
       "      <td>37980</td>\n",
       "      <td>39.988842</td>\n",
       "      <td>-75.207205</td>\n",
       "      <td>0076</td>\n",
       "      <td>12-2016</td>\n",
       "    </tr>\n",
       "  </tbody>\n",
       "</table>\n",
       "</div>"
      ],
      "text/plain": [
       "        date   aqi cbsa_code        lat        lon  site month_year\n",
       "0 2016-12-31  29.0     37980  39.988842 -75.207205  0076    12-2016"
      ]
     },
     "execution_count": 85,
     "metadata": {},
     "output_type": "execute_result"
    }
   ],
   "source": [
    "df_daily['month_year'] = df_daily['date'].dt.strftime('%m-%Y')\n",
    "df_daily.head(1)"
   ]
  },
  {
   "cell_type": "code",
   "execution_count": 87,
   "metadata": {},
   "outputs": [
    {
     "data": {
      "text/html": [
       "<div>\n",
       "<style scoped>\n",
       "    .dataframe tbody tr th:only-of-type {\n",
       "        vertical-align: middle;\n",
       "    }\n",
       "\n",
       "    .dataframe tbody tr th {\n",
       "        vertical-align: top;\n",
       "    }\n",
       "\n",
       "    .dataframe thead th {\n",
       "        text-align: right;\n",
       "    }\n",
       "</style>\n",
       "<table border=\"1\" class=\"dataframe\">\n",
       "  <thead>\n",
       "    <tr style=\"text-align: right;\">\n",
       "      <th></th>\n",
       "      <th>month_year</th>\n",
       "      <th>cbsa_code</th>\n",
       "      <th>site</th>\n",
       "      <th>aqi</th>\n",
       "    </tr>\n",
       "  </thead>\n",
       "  <tbody>\n",
       "    <tr>\n",
       "      <td>1221</td>\n",
       "      <td>12-2016</td>\n",
       "      <td>47220</td>\n",
       "      <td>0007</td>\n",
       "      <td>33.482759</td>\n",
       "    </tr>\n",
       "    <tr>\n",
       "      <td>1170</td>\n",
       "      <td>12-2016</td>\n",
       "      <td>19820</td>\n",
       "      <td>0093</td>\n",
       "      <td>51.310345</td>\n",
       "    </tr>\n",
       "    <tr>\n",
       "      <td>1146</td>\n",
       "      <td>12-2016</td>\n",
       "      <td>16980</td>\n",
       "      <td>3301</td>\n",
       "      <td>35.333333</td>\n",
       "    </tr>\n",
       "    <tr>\n",
       "      <td>1147</td>\n",
       "      <td>12-2016</td>\n",
       "      <td>16980</td>\n",
       "      <td>4002</td>\n",
       "      <td>20.833333</td>\n",
       "    </tr>\n",
       "    <tr>\n",
       "      <td>1148</td>\n",
       "      <td>12-2016</td>\n",
       "      <td>16980</td>\n",
       "      <td>4007</td>\n",
       "      <td>42.761905</td>\n",
       "    </tr>\n",
       "  </tbody>\n",
       "</table>\n",
       "</div>"
      ],
      "text/plain": [
       "     month_year cbsa_code  site        aqi\n",
       "1221    12-2016     47220  0007  33.482759\n",
       "1170    12-2016     19820  0093  51.310345\n",
       "1146    12-2016     16980  3301  35.333333\n",
       "1147    12-2016     16980  4002  20.833333\n",
       "1148    12-2016     16980  4007  42.761905"
      ]
     },
     "execution_count": 87,
     "metadata": {},
     "output_type": "execute_result"
    }
   ],
   "source": [
    "df_daily1 = df_daily[['site','aqi','month_year','cbsa_code']].groupby(['month_year','cbsa_code','site']).mean().reset_index().sort_values('month_year',ascending = False)\n",
    "df_daily1.head()\n",
    "# len(df_sample1)\n",
    "# df_sample1"
   ]
  },
  {
   "cell_type": "markdown",
   "metadata": {},
   "source": [
    "# Exporting AQI and PM2.5\n",
    "exporting each as CSV"
   ]
  },
  {
   "cell_type": "code",
   "execution_count": 90,
   "metadata": {},
   "outputs": [],
   "source": [
    "df_daily1.to_csv('aqi_2016.csv')\n",
    "df_sample1.to_csv('sample_2016.csv')"
   ]
  },
  {
   "cell_type": "markdown",
   "metadata": {},
   "source": [
    "# API Call Census Data\n",
    "pulling on 5 polluted state/counties from random selection of the top 20 highest polluted counties in the US\n",
    "\n",
    "pulling sectors for mining/quarring, utilities, construction, manufactoring, & wholesale trade\n",
    "\n",
    "https://classcodes.com/naics-2-digit-sector-codes/"
   ]
  },
  {
   "cell_type": "code",
   "execution_count": 140,
   "metadata": {},
   "outputs": [],
   "source": [
    "year = '2016'\n",
    "variables_interest = ['NAICS2012_TTL,EMP,ESTAB']\n",
    "sectors = [\"31-33\",\"21\",\"22\",\"42\",\"48-49\"]\n",
    "codes = msa_codes['CBSA Code']\n",
    "response_census = []\n",
    "\n",
    "\n",
    "\n",
    "for each_msa in codes:\n",
    "    base_url = f\"https://api.census.gov/data/{year}/cbp?get={variables_interest[0]}&NAICS2012={sectors[0]}&NAICS2012={sectors[1]}&NAICS2012={sectors[2]}&NAICS2012={sectors[3]}&NAICS2012={sectors[4]}&for=metropolitan%20statistical%20area/micropolitan%20statistical%20area:{each_msa}&key={api_key2}\"\n",
    "    response_census.append(requests.get(base_url).json())"
   ]
  },
  {
   "cell_type": "code",
   "execution_count": 107,
   "metadata": {},
   "outputs": [
    {
     "data": {
      "text/plain": [
       "29"
      ]
     },
     "execution_count": 107,
     "metadata": {},
     "output_type": "execute_result"
    }
   ],
   "source": [
    "len(response_census)"
   ]
  },
  {
   "cell_type": "code",
   "execution_count": 112,
   "metadata": {},
   "outputs": [
    {
     "data": {
      "text/plain": [
       "[['NAICS2012_TTL',\n",
       "  'EMP',\n",
       "  'ESTAB',\n",
       "  'NAICS2012',\n",
       "  'metropolitan statistical area/micropolitan statistical area'],\n",
       " ['Mining, quarrying, and oil and gas extraction', '39', '4', '21', '36140'],\n",
       " ['Utilities', '137', '3', '22', '36140'],\n",
       " ['Manufacturing', '577', '73', '31-33', '36140'],\n",
       " ['Wholesale trade', '557', '64', '42', '36140'],\n",
       " ['Transportation and warehousing', '193', '45', '48-49', '36140']]"
      ]
     },
     "execution_count": 112,
     "metadata": {},
     "output_type": "execute_result"
    }
   ],
   "source": [
    "response_census[1]"
   ]
  },
  {
   "cell_type": "markdown",
   "metadata": {},
   "source": [
    "# Creating Dataset from Pulled Data\n",
    "dropping first index as it is the column heading"
   ]
  },
  {
   "cell_type": "code",
   "execution_count": 136,
   "metadata": {},
   "outputs": [
    {
     "data": {
      "text/html": [
       "<div>\n",
       "<style scoped>\n",
       "    .dataframe tbody tr th:only-of-type {\n",
       "        vertical-align: middle;\n",
       "    }\n",
       "\n",
       "    .dataframe tbody tr th {\n",
       "        vertical-align: top;\n",
       "    }\n",
       "\n",
       "    .dataframe thead th {\n",
       "        text-align: right;\n",
       "    }\n",
       "</style>\n",
       "<table border=\"1\" class=\"dataframe\">\n",
       "  <thead>\n",
       "    <tr style=\"text-align: right;\">\n",
       "      <th></th>\n",
       "      <th>NAICS2012_TTL</th>\n",
       "      <th>EMP</th>\n",
       "      <th>ESTAB</th>\n",
       "      <th>NAICS2012</th>\n",
       "      <th>metropolitan area</th>\n",
       "    </tr>\n",
       "  </thead>\n",
       "  <tbody>\n",
       "    <tr>\n",
       "      <td>1</td>\n",
       "      <td>Mining, quarrying, and oil and gas extraction</td>\n",
       "      <td>805</td>\n",
       "      <td>70</td>\n",
       "      <td>21</td>\n",
       "      <td>37980</td>\n",
       "    </tr>\n",
       "    <tr>\n",
       "      <td>2</td>\n",
       "      <td>Utilities</td>\n",
       "      <td>13488</td>\n",
       "      <td>194</td>\n",
       "      <td>22</td>\n",
       "      <td>37980</td>\n",
       "    </tr>\n",
       "    <tr>\n",
       "      <td>3</td>\n",
       "      <td>Manufacturing</td>\n",
       "      <td>168986</td>\n",
       "      <td>4895</td>\n",
       "      <td>31-33</td>\n",
       "      <td>37980</td>\n",
       "    </tr>\n",
       "    <tr>\n",
       "      <td>4</td>\n",
       "      <td>Wholesale trade</td>\n",
       "      <td>131748</td>\n",
       "      <td>7799</td>\n",
       "      <td>42</td>\n",
       "      <td>37980</td>\n",
       "    </tr>\n",
       "    <tr>\n",
       "      <td>5</td>\n",
       "      <td>Transportation and warehousing</td>\n",
       "      <td>86338</td>\n",
       "      <td>3472</td>\n",
       "      <td>48-49</td>\n",
       "      <td>37980</td>\n",
       "    </tr>\n",
       "  </tbody>\n",
       "</table>\n",
       "</div>"
      ],
      "text/plain": [
       "                                   NAICS2012_TTL     EMP ESTAB NAICS2012  \\\n",
       "1  Mining, quarrying, and oil and gas extraction     805    70        21   \n",
       "2                                      Utilities   13488   194        22   \n",
       "3                                  Manufacturing  168986  4895     31-33   \n",
       "4                                Wholesale trade  131748  7799        42   \n",
       "5                 Transportation and warehousing   86338  3472     48-49   \n",
       "\n",
       "  metropolitan area  \n",
       "1             37980  \n",
       "2             37980  \n",
       "3             37980  \n",
       "4             37980  \n",
       "5             37980  "
      ]
     },
     "execution_count": 136,
     "metadata": {},
     "output_type": "execute_result"
    }
   ],
   "source": [
    "columns = ['NAICS2012_TTL','EMP','ESTAB','NAICS2012',\"metropolitan area\"]\n",
    "df = pd.DataFrame(data = response_census[0],columns=columns)\n",
    "df1 = df.drop(df.index[0])\n",
    "df1"
   ]
  },
  {
   "cell_type": "code",
   "execution_count": 143,
   "metadata": {},
   "outputs": [
    {
     "data": {
      "text/html": [
       "<div>\n",
       "<style scoped>\n",
       "    .dataframe tbody tr th:only-of-type {\n",
       "        vertical-align: middle;\n",
       "    }\n",
       "\n",
       "    .dataframe tbody tr th {\n",
       "        vertical-align: top;\n",
       "    }\n",
       "\n",
       "    .dataframe thead th {\n",
       "        text-align: right;\n",
       "    }\n",
       "</style>\n",
       "<table border=\"1\" class=\"dataframe\">\n",
       "  <thead>\n",
       "    <tr style=\"text-align: right;\">\n",
       "      <th></th>\n",
       "      <th>1</th>\n",
       "      <th>2</th>\n",
       "      <th>3</th>\n",
       "      <th>4</th>\n",
       "      <th>5</th>\n",
       "    </tr>\n",
       "  </thead>\n",
       "  <tbody>\n",
       "    <tr>\n",
       "      <td>NAICS2012_TTL</td>\n",
       "      <td>Mining, quarrying, and oil and gas extraction</td>\n",
       "      <td>Utilities</td>\n",
       "      <td>Manufacturing</td>\n",
       "      <td>Wholesale trade</td>\n",
       "      <td>Transportation and warehousing</td>\n",
       "    </tr>\n",
       "    <tr>\n",
       "      <td>EMP</td>\n",
       "      <td>805</td>\n",
       "      <td>13488</td>\n",
       "      <td>168986</td>\n",
       "      <td>131748</td>\n",
       "      <td>86338</td>\n",
       "    </tr>\n",
       "    <tr>\n",
       "      <td>ESTAB</td>\n",
       "      <td>70</td>\n",
       "      <td>194</td>\n",
       "      <td>4895</td>\n",
       "      <td>7799</td>\n",
       "      <td>3472</td>\n",
       "    </tr>\n",
       "    <tr>\n",
       "      <td>NAICS2012</td>\n",
       "      <td>21</td>\n",
       "      <td>22</td>\n",
       "      <td>31-33</td>\n",
       "      <td>42</td>\n",
       "      <td>48-49</td>\n",
       "    </tr>\n",
       "    <tr>\n",
       "      <td>metropolitan area</td>\n",
       "      <td>37980</td>\n",
       "      <td>37980</td>\n",
       "      <td>37980</td>\n",
       "      <td>37980</td>\n",
       "      <td>37980</td>\n",
       "    </tr>\n",
       "  </tbody>\n",
       "</table>\n",
       "</div>"
      ],
      "text/plain": [
       "                                                               1          2  \\\n",
       "NAICS2012_TTL      Mining, quarrying, and oil and gas extraction  Utilities   \n",
       "EMP                                                          805      13488   \n",
       "ESTAB                                                         70        194   \n",
       "NAICS2012                                                     21         22   \n",
       "metropolitan area                                          37980      37980   \n",
       "\n",
       "                               3                4  \\\n",
       "NAICS2012_TTL      Manufacturing  Wholesale trade   \n",
       "EMP                       168986           131748   \n",
       "ESTAB                       4895             7799   \n",
       "NAICS2012                  31-33               42   \n",
       "metropolitan area          37980            37980   \n",
       "\n",
       "                                                5  \n",
       "NAICS2012_TTL      Transportation and warehousing  \n",
       "EMP                                         86338  \n",
       "ESTAB                                        3472  \n",
       "NAICS2012                                   48-49  \n",
       "metropolitan area                           37980  "
      ]
     },
     "execution_count": 143,
     "metadata": {},
     "output_type": "execute_result"
    }
   ],
   "source": [
    "df_transposed = df1.T\n",
    "df_transposed"
   ]
  }
 ],
 "metadata": {
  "kernelspec": {
   "display_name": "Python 3",
   "language": "python",
   "name": "python3"
  },
  "language_info": {
   "codemirror_mode": {
    "name": "ipython",
    "version": 3
   },
   "file_extension": ".py",
   "mimetype": "text/x-python",
   "name": "python",
   "nbconvert_exporter": "python",
   "pygments_lexer": "ipython3",
   "version": "3.7.4"
  }
 },
 "nbformat": 4,
 "nbformat_minor": 2
}
