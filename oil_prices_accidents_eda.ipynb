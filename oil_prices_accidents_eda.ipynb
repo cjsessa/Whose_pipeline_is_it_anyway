{
 "cells": [
  {
   "cell_type": "markdown",
   "metadata": {},
   "source": [
    "## Dependencies & Setup"
   ]
  },
  {
   "cell_type": "code",
   "execution_count": 39,
   "metadata": {},
   "outputs": [],
   "source": [
    "import pandas as pd\n",
    "import numpy as np\n",
    "import matplotlib.pyplot as plt\n",
    "import seaborn as sns"
   ]
  },
  {
   "cell_type": "markdown",
   "metadata": {},
   "source": [
    "## Load Oil Prices Data File"
   ]
  },
  {
   "cell_type": "code",
   "execution_count": 59,
   "metadata": {},
   "outputs": [],
   "source": [
    "# Paths to Oil DOW Prices Data File\n",
    "oil_dow_prices_file = \"data/oil_dow_prices.csv\"\n",
    "\n",
    "# Read the data file using Pandas\n",
    "oil_prices_original = pd.read_csv(oil_dow_prices_file)"
   ]
  },
  {
   "cell_type": "markdown",
   "metadata": {},
   "source": [
    "## Cleanup & Inspect Oil Prices Data"
   ]
  },
  {
   "cell_type": "code",
   "execution_count": 61,
   "metadata": {},
   "outputs": [
    {
     "output_type": "stream",
     "name": "stdout",
     "text": "<class 'pandas.core.frame.DataFrame'>\nRangeIndex: 96 entries, 0 to 95\nData columns (total 2 columns):\nCrude Oil Price     96 non-null float64\nPrice Year-Month    96 non-null period[M]\ndtypes: float64(1), period[M](1)\nmemory usage: 1.6 KB\n    Crude Oil Price Price Year-Month\n0             72.87          2010-01\n1             72.74          2010-02\n2             75.77          2010-03\n3             78.80          2010-04\n4             70.91          2010-05\n..              ...              ...\n91            44.96          2017-08\n92            47.17          2017-09\n93            49.12          2017-10\n94            55.19          2017-11\n95            56.98          2017-12\n\n[96 rows x 2 columns]\n"
    }
   ],
   "source": [
    "# Drop unwanted columns from Oil Prices DataFrame\n",
    "oil_prices_dropped = oil_prices_original.drop(['Unnamed: 0', 'Close Price'], axis=1)\n",
    "# Rename columns\n",
    "oil_prices_new = oil_prices_dropped.rename(columns = {'date':'Price Date', 'Crude_Oil_Price':'Crude Oil Price'})\n",
    "# Add a new column for Price Year-Month\n",
    "oil_prices_new['Price Year-Month'] = pd.to_datetime(oil_prices_new['Price Date']).dt.to_period('M')\n",
    "\n",
    "# Filter for oil prices between 2010 and 2017 and create a clean new DataFrame\n",
    "start_date = \"2010-01-01\"\n",
    "end_date = \"2017-12-01\"\n",
    "oil_prices_clean = oil_prices_new.loc[(oil_prices_new['Price Date'] >= start_date) & (oil_prices_new['Price Date'] <= end_date)]\n",
    "oil_prices_clean.drop(['Price Date'], axis=1, inplace=True)\n",
    "oil_prices_clean.reset_index(drop=True, inplace=True)\n",
    "oil_prices_clean.info()\n",
    "print(oil_prices_clean)"
   ]
  },
  {
   "cell_type": "markdown",
   "metadata": {},
   "source": [
    "## Load Oil Pipeline Accidents Data File"
   ]
  },
  {
   "cell_type": "code",
   "execution_count": 42,
   "metadata": {},
   "outputs": [],
   "source": [
    "# Paths to Oil Pipeline Accidents Data File\n",
    "oil_pipeline_accidents_file = \"data/Oil_Pipeline_Accidents_2010-2017.csv\"\n",
    "\n",
    "# Read the data file using Pandas\n",
    "oil_accidents_original = pd.read_csv(oil_pipeline_accidents_file)"
   ]
  },
  {
   "cell_type": "markdown",
   "metadata": {},
   "source": [
    "## Cleanup Oil Pipeline Accidents Data"
   ]
  },
  {
   "cell_type": "code",
   "execution_count": 5,
   "metadata": {},
   "outputs": [
    {
     "output_type": "execute_result",
     "data": {
      "text/plain": "   Report Number  Supplemental Number  Accident Year Accident Date/Time  \\\n0       20100016                17305           2010   1/1/2010 7:15 AM   \n1       20100254                17331           2010   1/4/2010 8:30 AM   \n2       20100038                17747           2010  1/5/2010 10:30 AM   \n3       20100260                18574           2010   1/6/2010 7:30 PM   \n4       20100030                16276           2010   1/7/2010 1:00 PM   \n\n   Operator ID                         Operator Name Pipeline/Facility Name  \\\n0        32109                 ONEOK NGL PIPELINE LP      KINDER MORGAN JCT   \n1        15786                PORTLAND PIPELINE CORP      24-INCH MAIN LINE   \n2        20160           PETROLOGISTICS OLEFINS, LLC                    NaN   \n3        11169  ENBRIDGE ENERGY, LIMITED PARTNERSHIP      SUPERIOR TERMINAL   \n4          300                 PLAINS PIPELINE, L.P.         RED RIVER EAST   \n\n  Pipeline Location Pipeline Type                                 Liquid Type  \\\n0           ONSHORE   ABOVEGROUND  HVL OR OTHER FLAMMABLE OR TOXIC FLUID, GAS   \n1           ONSHORE   ABOVEGROUND                                   CRUDE OIL   \n2           ONSHORE   ABOVEGROUND  HVL OR OTHER FLAMMABLE OR TOXIC FLUID, GAS   \n3           ONSHORE   UNDERGROUND                                   CRUDE OIL   \n4           ONSHORE   UNDERGROUND                                   CRUDE OIL   \n\n   ... Other Fatalities Public Fatalities All Fatalities  \\\n0  ...              NaN               NaN            NaN   \n1  ...              NaN               NaN            NaN   \n2  ...              NaN               NaN            NaN   \n3  ...              NaN               NaN            NaN   \n4  ...              NaN               NaN            NaN   \n\n  Property Damage Costs Lost Commodity Costs  \\\n0                 110.0               1517.0   \n1                4000.0                  8.0   \n2                   0.0                200.0   \n3                 200.0                 40.0   \n4               20000.0                150.0   \n\n   Public/Private Property Damage Costs  Emergency Response Costs  \\\n0                                   0.0                       0.0   \n1                                   0.0                       0.0   \n2                                   0.0                       0.0   \n3                                   0.0                   11300.0   \n4                                   0.0                    7500.0   \n\n  Environmental Remediation Costs Other Costs  All Costs  \n0                             0.0         0.0       1627  \n1                             0.0         0.0       4008  \n2                             0.0         0.0        200  \n3                             0.0         0.0      11540  \n4                          2000.0         0.0      29650  \n\n[5 rows x 48 columns]",
      "text/html": "<div>\n<style scoped>\n    .dataframe tbody tr th:only-of-type {\n        vertical-align: middle;\n    }\n\n    .dataframe tbody tr th {\n        vertical-align: top;\n    }\n\n    .dataframe thead th {\n        text-align: right;\n    }\n</style>\n<table border=\"1\" class=\"dataframe\">\n  <thead>\n    <tr style=\"text-align: right;\">\n      <th></th>\n      <th>Report Number</th>\n      <th>Supplemental Number</th>\n      <th>Accident Year</th>\n      <th>Accident Date/Time</th>\n      <th>Operator ID</th>\n      <th>Operator Name</th>\n      <th>Pipeline/Facility Name</th>\n      <th>Pipeline Location</th>\n      <th>Pipeline Type</th>\n      <th>Liquid Type</th>\n      <th>...</th>\n      <th>Other Fatalities</th>\n      <th>Public Fatalities</th>\n      <th>All Fatalities</th>\n      <th>Property Damage Costs</th>\n      <th>Lost Commodity Costs</th>\n      <th>Public/Private Property Damage Costs</th>\n      <th>Emergency Response Costs</th>\n      <th>Environmental Remediation Costs</th>\n      <th>Other Costs</th>\n      <th>All Costs</th>\n    </tr>\n  </thead>\n  <tbody>\n    <tr>\n      <th>0</th>\n      <td>20100016</td>\n      <td>17305</td>\n      <td>2010</td>\n      <td>1/1/2010 7:15 AM</td>\n      <td>32109</td>\n      <td>ONEOK NGL PIPELINE LP</td>\n      <td>KINDER MORGAN JCT</td>\n      <td>ONSHORE</td>\n      <td>ABOVEGROUND</td>\n      <td>HVL OR OTHER FLAMMABLE OR TOXIC FLUID, GAS</td>\n      <td>...</td>\n      <td>NaN</td>\n      <td>NaN</td>\n      <td>NaN</td>\n      <td>110.0</td>\n      <td>1517.0</td>\n      <td>0.0</td>\n      <td>0.0</td>\n      <td>0.0</td>\n      <td>0.0</td>\n      <td>1627</td>\n    </tr>\n    <tr>\n      <th>1</th>\n      <td>20100254</td>\n      <td>17331</td>\n      <td>2010</td>\n      <td>1/4/2010 8:30 AM</td>\n      <td>15786</td>\n      <td>PORTLAND PIPELINE CORP</td>\n      <td>24-INCH MAIN LINE</td>\n      <td>ONSHORE</td>\n      <td>ABOVEGROUND</td>\n      <td>CRUDE OIL</td>\n      <td>...</td>\n      <td>NaN</td>\n      <td>NaN</td>\n      <td>NaN</td>\n      <td>4000.0</td>\n      <td>8.0</td>\n      <td>0.0</td>\n      <td>0.0</td>\n      <td>0.0</td>\n      <td>0.0</td>\n      <td>4008</td>\n    </tr>\n    <tr>\n      <th>2</th>\n      <td>20100038</td>\n      <td>17747</td>\n      <td>2010</td>\n      <td>1/5/2010 10:30 AM</td>\n      <td>20160</td>\n      <td>PETROLOGISTICS OLEFINS, LLC</td>\n      <td>NaN</td>\n      <td>ONSHORE</td>\n      <td>ABOVEGROUND</td>\n      <td>HVL OR OTHER FLAMMABLE OR TOXIC FLUID, GAS</td>\n      <td>...</td>\n      <td>NaN</td>\n      <td>NaN</td>\n      <td>NaN</td>\n      <td>0.0</td>\n      <td>200.0</td>\n      <td>0.0</td>\n      <td>0.0</td>\n      <td>0.0</td>\n      <td>0.0</td>\n      <td>200</td>\n    </tr>\n    <tr>\n      <th>3</th>\n      <td>20100260</td>\n      <td>18574</td>\n      <td>2010</td>\n      <td>1/6/2010 7:30 PM</td>\n      <td>11169</td>\n      <td>ENBRIDGE ENERGY, LIMITED PARTNERSHIP</td>\n      <td>SUPERIOR TERMINAL</td>\n      <td>ONSHORE</td>\n      <td>UNDERGROUND</td>\n      <td>CRUDE OIL</td>\n      <td>...</td>\n      <td>NaN</td>\n      <td>NaN</td>\n      <td>NaN</td>\n      <td>200.0</td>\n      <td>40.0</td>\n      <td>0.0</td>\n      <td>11300.0</td>\n      <td>0.0</td>\n      <td>0.0</td>\n      <td>11540</td>\n    </tr>\n    <tr>\n      <th>4</th>\n      <td>20100030</td>\n      <td>16276</td>\n      <td>2010</td>\n      <td>1/7/2010 1:00 PM</td>\n      <td>300</td>\n      <td>PLAINS PIPELINE, L.P.</td>\n      <td>RED RIVER EAST</td>\n      <td>ONSHORE</td>\n      <td>UNDERGROUND</td>\n      <td>CRUDE OIL</td>\n      <td>...</td>\n      <td>NaN</td>\n      <td>NaN</td>\n      <td>NaN</td>\n      <td>20000.0</td>\n      <td>150.0</td>\n      <td>0.0</td>\n      <td>7500.0</td>\n      <td>2000.0</td>\n      <td>0.0</td>\n      <td>29650</td>\n    </tr>\n  </tbody>\n</table>\n<p>5 rows × 48 columns</p>\n</div>"
     },
     "metadata": {},
     "execution_count": 5
    }
   ],
   "source": [
    "# Inspect the Oil Accidents DataFrame\n",
    "oil_accidents_original.head()"
   ]
  },
  {
   "cell_type": "code",
   "execution_count": 43,
   "metadata": {},
   "outputs": [
    {
     "output_type": "stream",
     "name": "stdout",
     "text": "<class 'pandas.core.frame.DataFrame'>\nRangeIndex: 2795 entries, 0 to 2794\nData columns (total 48 columns):\nReport Number                           2795 non-null int64\nSupplemental Number                     2795 non-null int64\nAccident Year                           2795 non-null int64\nAccident Date/Time                      2795 non-null object\nOperator ID                             2795 non-null int64\nOperator Name                           2795 non-null object\nPipeline/Facility Name                  2674 non-null object\nPipeline Location                       2795 non-null object\nPipeline Type                           2777 non-null object\nLiquid Type                             2795 non-null object\nLiquid Subtype                          1349 non-null object\nLiquid Name                             222 non-null object\nAccident City                           2480 non-null object\nAccident County                         2720 non-null object\nAccident State                          2783 non-null object\nAccident Latitude                       2795 non-null float64\nAccident Longitude                      2795 non-null float64\nCause Category                          2795 non-null object\nCause Subcategory                       2795 non-null object\nUnintentional Release (Barrels)         2795 non-null float64\nIntentional Release (Barrels)           1209 non-null float64\nLiquid Recovery (Barrels)               2795 non-null float64\nNet Loss (Barrels)                      2795 non-null float64\nLiquid Ignition                         2795 non-null object\nLiquid Explosion                        2795 non-null object\nPipeline Shutdown                       2583 non-null object\nShutdown Date/Time                      1390 non-null object\nRestart Date/Time                       1341 non-null object\nPublic Evacuations                      2338 non-null float64\nOperator Employee Injuries              12 non-null float64\nOperator Contractor Injuries            12 non-null float64\nEmergency Responder Injuries            12 non-null float64\nOther Injuries                          12 non-null float64\nPublic Injuries                         12 non-null float64\nAll Injuries                            12 non-null float64\nOperator Employee Fatalities            8 non-null float64\nOperator Contractor Fatalities          8 non-null float64\nEmergency Responder Fatalities          8 non-null float64\nOther Fatalities                        8 non-null float64\nPublic Fatalities                       8 non-null float64\nAll Fatalities                          8 non-null float64\nProperty Damage Costs                   2788 non-null float64\nLost Commodity Costs                    2791 non-null float64\nPublic/Private Property Damage Costs    2785 non-null float64\nEmergency Response Costs                2789 non-null float64\nEnvironmental Remediation Costs         2787 non-null float64\nOther Costs                             2779 non-null float64\nAll Costs                               2795 non-null int64\ndtypes: float64(25), int64(5), object(18)\nmemory usage: 1.0+ MB\n"
    }
   ],
   "source": [
    "# Inspect columns from Oil Accidents DataFrame\n",
    "oil_accidents_original.info()"
   ]
  },
  {
   "cell_type": "code",
   "execution_count": 44,
   "metadata": {},
   "outputs": [
    {
     "output_type": "stream",
     "name": "stdout",
     "text": "<class 'pandas.core.frame.DataFrame'>\nRangeIndex: 2795 entries, 0 to 2794\nData columns (total 37 columns):\nAccident Year                           2795 non-null int64\nAccident Date/Time                      2795 non-null object\nOperator Name                           2795 non-null object\nPipeline/Facility Name                  2795 non-null object\nPipeline Location                       2795 non-null object\nPipeline Type                           2795 non-null object\nLiquid Type                             2795 non-null object\nLiquid Subtype                          2795 non-null object\nLiquid Name                             2795 non-null object\nAccident City                           2795 non-null object\nAccident County                         2795 non-null object\nAccident State                          2795 non-null object\nAccident Latitude                       2795 non-null float64\nAccident Longitude                      2795 non-null float64\nCause Category                          2795 non-null object\nCause Subcategory                       2795 non-null object\nNet Loss (Barrels)                      2795 non-null float64\nPublic Evacuations                      2795 non-null float64\nOperator Employee Injuries              2795 non-null float64\nOperator Contractor Injuries            2795 non-null float64\nEmergency Responder Injuries            2795 non-null float64\nOther Injuries                          2795 non-null float64\nPublic Injuries                         2795 non-null float64\nAll Injuries                            2795 non-null float64\nOperator Employee Fatalities            2795 non-null float64\nOperator Contractor Fatalities          2795 non-null float64\nEmergency Responder Fatalities          2795 non-null float64\nOther Fatalities                        2795 non-null float64\nPublic Fatalities                       2795 non-null float64\nAll Fatalities                          2795 non-null float64\nProperty Damage Costs                   2795 non-null float64\nLost Commodity Costs                    2795 non-null float64\nPublic/Private Property Damage Costs    2795 non-null float64\nEmergency Response Costs                2795 non-null float64\nEnvironmental Remediation Costs         2795 non-null float64\nOther Costs                             2795 non-null float64\nAll Costs                               2795 non-null int64\ndtypes: float64(22), int64(2), object(13)\nmemory usage: 808.1+ KB\n"
    }
   ],
   "source": [
    "# Drop unwanted columns from Oil Accidents DataFrame\n",
    "oil_accidents_dropped = oil_accidents_original.drop(['Report Number', 'Supplemental Number', 'Operator ID', 'Unintentional Release (Barrels)', 'Intentional Release (Barrels)', 'Liquid Recovery (Barrels)', 'Liquid Ignition', 'Liquid Explosion', 'Pipeline Shutdown', 'Shutdown Date/Time', 'Restart Date/Time'], axis=1)\n",
    "\n",
    "# Fill missing/blank values in DataFrame using the apply function based on the data type of the column\n",
    "oil_accidents_new = oil_accidents_dropped.apply(lambda x: x.fillna(0.0) if x.dtype.kind in 'f' else x.fillna('Not Available'))\n",
    "\n",
    "oil_accidents_new.info()"
   ]
  },
  {
   "cell_type": "code",
   "execution_count": 45,
   "metadata": {},
   "outputs": [
    {
     "output_type": "execute_result",
     "data": {
      "text/plain": "   Accident Year Accident Date/Time                         Operator Name  \\\n0           2010   1/1/2010 7:15 AM                 ONEOK NGL PIPELINE LP   \n1           2010   1/4/2010 8:30 AM                PORTLAND PIPELINE CORP   \n2           2010  1/5/2010 10:30 AM           PETROLOGISTICS OLEFINS, LLC   \n3           2010   1/6/2010 7:30 PM  ENBRIDGE ENERGY, LIMITED PARTNERSHIP   \n4           2010   1/7/2010 1:00 PM                 PLAINS PIPELINE, L.P.   \n\n  Pipeline/Facility Name Pipeline Location Pipeline Type  \\\n0      KINDER MORGAN JCT           ONSHORE   ABOVEGROUND   \n1      24-INCH MAIN LINE           ONSHORE   ABOVEGROUND   \n2          Not Available           ONSHORE   ABOVEGROUND   \n3      SUPERIOR TERMINAL           ONSHORE   UNDERGROUND   \n4         RED RIVER EAST           ONSHORE   UNDERGROUND   \n\n                                  Liquid Type  \\\n0  HVL OR OTHER FLAMMABLE OR TOXIC FLUID, GAS   \n1                                   CRUDE OIL   \n2  HVL OR OTHER FLAMMABLE OR TOXIC FLUID, GAS   \n3                                   CRUDE OIL   \n4                                   CRUDE OIL   \n\n                                      Liquid Subtype    Liquid Name  \\\n0  LPG (LIQUEFIED PETROLEUM GAS) / NGL (NATURAL G...  Not Available   \n1                                      Not Available  Not Available   \n2                                          OTHER HVL         ETHANE   \n3                                      Not Available  Not Available   \n4                                      Not Available  Not Available   \n\n  Accident City  ... Other Fatalities Public Fatalities  All Fatalities  \\\n0     MCPHERSON  ...              0.0               0.0             0.0   \n1       RAYMOND  ...              0.0               0.0             0.0   \n2       SULPHER  ...              0.0               0.0             0.0   \n3      SUPERIOR  ...              0.0               0.0             0.0   \n4       SHERMAN  ...              0.0               0.0             0.0   \n\n   Property Damage Costs Lost Commodity Costs  \\\n0                  110.0               1517.0   \n1                 4000.0                  8.0   \n2                    0.0                200.0   \n3                  200.0                 40.0   \n4                20000.0                150.0   \n\n  Public/Private Property Damage Costs  Emergency Response Costs  \\\n0                                  0.0                       0.0   \n1                                  0.0                       0.0   \n2                                  0.0                       0.0   \n3                                  0.0                   11300.0   \n4                                  0.0                    7500.0   \n\n   Environmental Remediation Costs  Other Costs  All Costs  \n0                              0.0          0.0       1627  \n1                              0.0          0.0       4008  \n2                              0.0          0.0        200  \n3                              0.0          0.0      11540  \n4                           2000.0          0.0      29650  \n\n[5 rows x 37 columns]",
      "text/html": "<div>\n<style scoped>\n    .dataframe tbody tr th:only-of-type {\n        vertical-align: middle;\n    }\n\n    .dataframe tbody tr th {\n        vertical-align: top;\n    }\n\n    .dataframe thead th {\n        text-align: right;\n    }\n</style>\n<table border=\"1\" class=\"dataframe\">\n  <thead>\n    <tr style=\"text-align: right;\">\n      <th></th>\n      <th>Accident Year</th>\n      <th>Accident Date/Time</th>\n      <th>Operator Name</th>\n      <th>Pipeline/Facility Name</th>\n      <th>Pipeline Location</th>\n      <th>Pipeline Type</th>\n      <th>Liquid Type</th>\n      <th>Liquid Subtype</th>\n      <th>Liquid Name</th>\n      <th>Accident City</th>\n      <th>...</th>\n      <th>Other Fatalities</th>\n      <th>Public Fatalities</th>\n      <th>All Fatalities</th>\n      <th>Property Damage Costs</th>\n      <th>Lost Commodity Costs</th>\n      <th>Public/Private Property Damage Costs</th>\n      <th>Emergency Response Costs</th>\n      <th>Environmental Remediation Costs</th>\n      <th>Other Costs</th>\n      <th>All Costs</th>\n    </tr>\n  </thead>\n  <tbody>\n    <tr>\n      <th>0</th>\n      <td>2010</td>\n      <td>1/1/2010 7:15 AM</td>\n      <td>ONEOK NGL PIPELINE LP</td>\n      <td>KINDER MORGAN JCT</td>\n      <td>ONSHORE</td>\n      <td>ABOVEGROUND</td>\n      <td>HVL OR OTHER FLAMMABLE OR TOXIC FLUID, GAS</td>\n      <td>LPG (LIQUEFIED PETROLEUM GAS) / NGL (NATURAL G...</td>\n      <td>Not Available</td>\n      <td>MCPHERSON</td>\n      <td>...</td>\n      <td>0.0</td>\n      <td>0.0</td>\n      <td>0.0</td>\n      <td>110.0</td>\n      <td>1517.0</td>\n      <td>0.0</td>\n      <td>0.0</td>\n      <td>0.0</td>\n      <td>0.0</td>\n      <td>1627</td>\n    </tr>\n    <tr>\n      <th>1</th>\n      <td>2010</td>\n      <td>1/4/2010 8:30 AM</td>\n      <td>PORTLAND PIPELINE CORP</td>\n      <td>24-INCH MAIN LINE</td>\n      <td>ONSHORE</td>\n      <td>ABOVEGROUND</td>\n      <td>CRUDE OIL</td>\n      <td>Not Available</td>\n      <td>Not Available</td>\n      <td>RAYMOND</td>\n      <td>...</td>\n      <td>0.0</td>\n      <td>0.0</td>\n      <td>0.0</td>\n      <td>4000.0</td>\n      <td>8.0</td>\n      <td>0.0</td>\n      <td>0.0</td>\n      <td>0.0</td>\n      <td>0.0</td>\n      <td>4008</td>\n    </tr>\n    <tr>\n      <th>2</th>\n      <td>2010</td>\n      <td>1/5/2010 10:30 AM</td>\n      <td>PETROLOGISTICS OLEFINS, LLC</td>\n      <td>Not Available</td>\n      <td>ONSHORE</td>\n      <td>ABOVEGROUND</td>\n      <td>HVL OR OTHER FLAMMABLE OR TOXIC FLUID, GAS</td>\n      <td>OTHER HVL</td>\n      <td>ETHANE</td>\n      <td>SULPHER</td>\n      <td>...</td>\n      <td>0.0</td>\n      <td>0.0</td>\n      <td>0.0</td>\n      <td>0.0</td>\n      <td>200.0</td>\n      <td>0.0</td>\n      <td>0.0</td>\n      <td>0.0</td>\n      <td>0.0</td>\n      <td>200</td>\n    </tr>\n    <tr>\n      <th>3</th>\n      <td>2010</td>\n      <td>1/6/2010 7:30 PM</td>\n      <td>ENBRIDGE ENERGY, LIMITED PARTNERSHIP</td>\n      <td>SUPERIOR TERMINAL</td>\n      <td>ONSHORE</td>\n      <td>UNDERGROUND</td>\n      <td>CRUDE OIL</td>\n      <td>Not Available</td>\n      <td>Not Available</td>\n      <td>SUPERIOR</td>\n      <td>...</td>\n      <td>0.0</td>\n      <td>0.0</td>\n      <td>0.0</td>\n      <td>200.0</td>\n      <td>40.0</td>\n      <td>0.0</td>\n      <td>11300.0</td>\n      <td>0.0</td>\n      <td>0.0</td>\n      <td>11540</td>\n    </tr>\n    <tr>\n      <th>4</th>\n      <td>2010</td>\n      <td>1/7/2010 1:00 PM</td>\n      <td>PLAINS PIPELINE, L.P.</td>\n      <td>RED RIVER EAST</td>\n      <td>ONSHORE</td>\n      <td>UNDERGROUND</td>\n      <td>CRUDE OIL</td>\n      <td>Not Available</td>\n      <td>Not Available</td>\n      <td>SHERMAN</td>\n      <td>...</td>\n      <td>0.0</td>\n      <td>0.0</td>\n      <td>0.0</td>\n      <td>20000.0</td>\n      <td>150.0</td>\n      <td>0.0</td>\n      <td>7500.0</td>\n      <td>2000.0</td>\n      <td>0.0</td>\n      <td>29650</td>\n    </tr>\n  </tbody>\n</table>\n<p>5 rows × 37 columns</p>\n</div>"
     },
     "metadata": {},
     "execution_count": 45
    }
   ],
   "source": [
    "# Inspect the new Oil Accidents DataFrame\n",
    "oil_accidents_new.head()"
   ]
  },
  {
   "cell_type": "code",
   "execution_count": 55,
   "metadata": {},
   "outputs": [
    {
     "output_type": "execute_result",
     "data": {
      "text/plain": "   Accident Year Accident Date                         Operator Name  \\\n0           2010    2010-01-01                 ONEOK NGL PIPELINE LP   \n1           2010    2010-01-04                PORTLAND PIPELINE CORP   \n2           2010    2010-01-05           PETROLOGISTICS OLEFINS, LLC   \n3           2010    2010-01-06  ENBRIDGE ENERGY, LIMITED PARTNERSHIP   \n4           2010    2010-01-07                 PLAINS PIPELINE, L.P.   \n\n  Pipeline/Facility Name Pipeline Location Pipeline Type  \\\n0      KINDER MORGAN JCT           ONSHORE   ABOVEGROUND   \n1      24-INCH MAIN LINE           ONSHORE   ABOVEGROUND   \n2          Not Available           ONSHORE   ABOVEGROUND   \n3      SUPERIOR TERMINAL           ONSHORE   UNDERGROUND   \n4         RED RIVER EAST           ONSHORE   UNDERGROUND   \n\n                                  Liquid Type  \\\n0  HVL OR OTHER FLAMMABLE OR TOXIC FLUID, GAS   \n1                                   CRUDE OIL   \n2  HVL OR OTHER FLAMMABLE OR TOXIC FLUID, GAS   \n3                                   CRUDE OIL   \n4                                   CRUDE OIL   \n\n                                      Liquid Subtype    Liquid Name  \\\n0  LPG (LIQUEFIED PETROLEUM GAS) / NGL (NATURAL G...  Not Available   \n1                                      Not Available  Not Available   \n2                                          OTHER HVL         ETHANE   \n3                                      Not Available  Not Available   \n4                                      Not Available  Not Available   \n\n  Accident City  ... Other Fatalities Public Fatalities  All Fatalities  \\\n0     MCPHERSON  ...              0.0               0.0             0.0   \n1       RAYMOND  ...              0.0               0.0             0.0   \n2       SULPHER  ...              0.0               0.0             0.0   \n3      SUPERIOR  ...              0.0               0.0             0.0   \n4       SHERMAN  ...              0.0               0.0             0.0   \n\n   Property Damage Costs Lost Commodity Costs  \\\n0                  110.0               1517.0   \n1                 4000.0                  8.0   \n2                    0.0                200.0   \n3                  200.0                 40.0   \n4                20000.0                150.0   \n\n  Public/Private Property Damage Costs  Emergency Response Costs  \\\n0                                  0.0                       0.0   \n1                                  0.0                       0.0   \n2                                  0.0                       0.0   \n3                                  0.0                   11300.0   \n4                                  0.0                    7500.0   \n\n   Environmental Remediation Costs  Other Costs  All Costs  \n0                              0.0          0.0     1627.0  \n1                              0.0          0.0     4008.0  \n2                              0.0          0.0      200.0  \n3                              0.0          0.0    11540.0  \n4                           2000.0          0.0    29650.0  \n\n[5 rows x 37 columns]",
      "text/html": "<div>\n<style scoped>\n    .dataframe tbody tr th:only-of-type {\n        vertical-align: middle;\n    }\n\n    .dataframe tbody tr th {\n        vertical-align: top;\n    }\n\n    .dataframe thead th {\n        text-align: right;\n    }\n</style>\n<table border=\"1\" class=\"dataframe\">\n  <thead>\n    <tr style=\"text-align: right;\">\n      <th></th>\n      <th>Accident Year</th>\n      <th>Accident Date</th>\n      <th>Operator Name</th>\n      <th>Pipeline/Facility Name</th>\n      <th>Pipeline Location</th>\n      <th>Pipeline Type</th>\n      <th>Liquid Type</th>\n      <th>Liquid Subtype</th>\n      <th>Liquid Name</th>\n      <th>Accident City</th>\n      <th>...</th>\n      <th>Other Fatalities</th>\n      <th>Public Fatalities</th>\n      <th>All Fatalities</th>\n      <th>Property Damage Costs</th>\n      <th>Lost Commodity Costs</th>\n      <th>Public/Private Property Damage Costs</th>\n      <th>Emergency Response Costs</th>\n      <th>Environmental Remediation Costs</th>\n      <th>Other Costs</th>\n      <th>All Costs</th>\n    </tr>\n  </thead>\n  <tbody>\n    <tr>\n      <th>0</th>\n      <td>2010</td>\n      <td>2010-01-01</td>\n      <td>ONEOK NGL PIPELINE LP</td>\n      <td>KINDER MORGAN JCT</td>\n      <td>ONSHORE</td>\n      <td>ABOVEGROUND</td>\n      <td>HVL OR OTHER FLAMMABLE OR TOXIC FLUID, GAS</td>\n      <td>LPG (LIQUEFIED PETROLEUM GAS) / NGL (NATURAL G...</td>\n      <td>Not Available</td>\n      <td>MCPHERSON</td>\n      <td>...</td>\n      <td>0.0</td>\n      <td>0.0</td>\n      <td>0.0</td>\n      <td>110.0</td>\n      <td>1517.0</td>\n      <td>0.0</td>\n      <td>0.0</td>\n      <td>0.0</td>\n      <td>0.0</td>\n      <td>1627.0</td>\n    </tr>\n    <tr>\n      <th>1</th>\n      <td>2010</td>\n      <td>2010-01-04</td>\n      <td>PORTLAND PIPELINE CORP</td>\n      <td>24-INCH MAIN LINE</td>\n      <td>ONSHORE</td>\n      <td>ABOVEGROUND</td>\n      <td>CRUDE OIL</td>\n      <td>Not Available</td>\n      <td>Not Available</td>\n      <td>RAYMOND</td>\n      <td>...</td>\n      <td>0.0</td>\n      <td>0.0</td>\n      <td>0.0</td>\n      <td>4000.0</td>\n      <td>8.0</td>\n      <td>0.0</td>\n      <td>0.0</td>\n      <td>0.0</td>\n      <td>0.0</td>\n      <td>4008.0</td>\n    </tr>\n    <tr>\n      <th>2</th>\n      <td>2010</td>\n      <td>2010-01-05</td>\n      <td>PETROLOGISTICS OLEFINS, LLC</td>\n      <td>Not Available</td>\n      <td>ONSHORE</td>\n      <td>ABOVEGROUND</td>\n      <td>HVL OR OTHER FLAMMABLE OR TOXIC FLUID, GAS</td>\n      <td>OTHER HVL</td>\n      <td>ETHANE</td>\n      <td>SULPHER</td>\n      <td>...</td>\n      <td>0.0</td>\n      <td>0.0</td>\n      <td>0.0</td>\n      <td>0.0</td>\n      <td>200.0</td>\n      <td>0.0</td>\n      <td>0.0</td>\n      <td>0.0</td>\n      <td>0.0</td>\n      <td>200.0</td>\n    </tr>\n    <tr>\n      <th>3</th>\n      <td>2010</td>\n      <td>2010-01-06</td>\n      <td>ENBRIDGE ENERGY, LIMITED PARTNERSHIP</td>\n      <td>SUPERIOR TERMINAL</td>\n      <td>ONSHORE</td>\n      <td>UNDERGROUND</td>\n      <td>CRUDE OIL</td>\n      <td>Not Available</td>\n      <td>Not Available</td>\n      <td>SUPERIOR</td>\n      <td>...</td>\n      <td>0.0</td>\n      <td>0.0</td>\n      <td>0.0</td>\n      <td>200.0</td>\n      <td>40.0</td>\n      <td>0.0</td>\n      <td>11300.0</td>\n      <td>0.0</td>\n      <td>0.0</td>\n      <td>11540.0</td>\n    </tr>\n    <tr>\n      <th>4</th>\n      <td>2010</td>\n      <td>2010-01-07</td>\n      <td>PLAINS PIPELINE, L.P.</td>\n      <td>RED RIVER EAST</td>\n      <td>ONSHORE</td>\n      <td>UNDERGROUND</td>\n      <td>CRUDE OIL</td>\n      <td>Not Available</td>\n      <td>Not Available</td>\n      <td>SHERMAN</td>\n      <td>...</td>\n      <td>0.0</td>\n      <td>0.0</td>\n      <td>0.0</td>\n      <td>20000.0</td>\n      <td>150.0</td>\n      <td>0.0</td>\n      <td>7500.0</td>\n      <td>2000.0</td>\n      <td>0.0</td>\n      <td>29650.0</td>\n    </tr>\n  </tbody>\n</table>\n<p>5 rows × 37 columns</p>\n</div>"
     },
     "metadata": {},
     "execution_count": 55
    }
   ],
   "source": [
    "# Change the All Costs column to float values and Accident Date/Time to Date\n",
    "oil_accidents_clean = oil_accidents_new.astype({'All Costs': float})\n",
    "oil_accidents_clean['Accident Date/Time'] = pd.to_datetime(oil_accidents_clean['Accident Date/Time']).dt.strftime('%Y-%m-%d')\n",
    "oil_accidents_clean.rename(columns = {'Accident Date/Time': 'Accident Date'}, inplace=True)\n",
    "oil_accidents_clean.head()"
   ]
  },
  {
   "cell_type": "code",
   "execution_count": 56,
   "metadata": {},
   "outputs": [
    {
     "output_type": "execute_result",
     "data": {
      "text/plain": "   Accident Year Accident Year-Month Accident Date  \\\n0           2010             2010-01    2010-01-01   \n1           2010             2010-01    2010-01-04   \n2           2010             2010-01    2010-01-05   \n3           2010             2010-01    2010-01-06   \n4           2010             2010-01    2010-01-07   \n\n                          Operator Name Pipeline/Facility Name  \\\n0                 ONEOK NGL PIPELINE LP      KINDER MORGAN JCT   \n1                PORTLAND PIPELINE CORP      24-INCH MAIN LINE   \n2           PETROLOGISTICS OLEFINS, LLC          Not Available   \n3  ENBRIDGE ENERGY, LIMITED PARTNERSHIP      SUPERIOR TERMINAL   \n4                 PLAINS PIPELINE, L.P.         RED RIVER EAST   \n\n  Pipeline Location Pipeline Type                                 Liquid Type  \\\n0           ONSHORE   ABOVEGROUND  HVL OR OTHER FLAMMABLE OR TOXIC FLUID, GAS   \n1           ONSHORE   ABOVEGROUND                                   CRUDE OIL   \n2           ONSHORE   ABOVEGROUND  HVL OR OTHER FLAMMABLE OR TOXIC FLUID, GAS   \n3           ONSHORE   UNDERGROUND                                   CRUDE OIL   \n4           ONSHORE   UNDERGROUND                                   CRUDE OIL   \n\n                                      Liquid Subtype    Liquid Name  ...  \\\n0  LPG (LIQUEFIED PETROLEUM GAS) / NGL (NATURAL G...  Not Available  ...   \n1                                      Not Available  Not Available  ...   \n2                                          OTHER HVL         ETHANE  ...   \n3                                      Not Available  Not Available  ...   \n4                                      Not Available  Not Available  ...   \n\n  Other Fatalities Public Fatalities All Fatalities  Property Damage Costs  \\\n0              0.0               0.0            0.0                  110.0   \n1              0.0               0.0            0.0                 4000.0   \n2              0.0               0.0            0.0                    0.0   \n3              0.0               0.0            0.0                  200.0   \n4              0.0               0.0            0.0                20000.0   \n\n   Lost Commodity Costs Public/Private Property Damage Costs  \\\n0                1517.0                                  0.0   \n1                   8.0                                  0.0   \n2                 200.0                                  0.0   \n3                  40.0                                  0.0   \n4                 150.0                                  0.0   \n\n  Emergency Response Costs  Environmental Remediation Costs  Other Costs  \\\n0                      0.0                              0.0          0.0   \n1                      0.0                              0.0          0.0   \n2                      0.0                              0.0          0.0   \n3                  11300.0                              0.0          0.0   \n4                   7500.0                           2000.0          0.0   \n\n   All Costs  \n0     1627.0  \n1     4008.0  \n2      200.0  \n3    11540.0  \n4    29650.0  \n\n[5 rows x 38 columns]",
      "text/html": "<div>\n<style scoped>\n    .dataframe tbody tr th:only-of-type {\n        vertical-align: middle;\n    }\n\n    .dataframe tbody tr th {\n        vertical-align: top;\n    }\n\n    .dataframe thead th {\n        text-align: right;\n    }\n</style>\n<table border=\"1\" class=\"dataframe\">\n  <thead>\n    <tr style=\"text-align: right;\">\n      <th></th>\n      <th>Accident Year</th>\n      <th>Accident Year-Month</th>\n      <th>Accident Date</th>\n      <th>Operator Name</th>\n      <th>Pipeline/Facility Name</th>\n      <th>Pipeline Location</th>\n      <th>Pipeline Type</th>\n      <th>Liquid Type</th>\n      <th>Liquid Subtype</th>\n      <th>Liquid Name</th>\n      <th>...</th>\n      <th>Other Fatalities</th>\n      <th>Public Fatalities</th>\n      <th>All Fatalities</th>\n      <th>Property Damage Costs</th>\n      <th>Lost Commodity Costs</th>\n      <th>Public/Private Property Damage Costs</th>\n      <th>Emergency Response Costs</th>\n      <th>Environmental Remediation Costs</th>\n      <th>Other Costs</th>\n      <th>All Costs</th>\n    </tr>\n  </thead>\n  <tbody>\n    <tr>\n      <th>0</th>\n      <td>2010</td>\n      <td>2010-01</td>\n      <td>2010-01-01</td>\n      <td>ONEOK NGL PIPELINE LP</td>\n      <td>KINDER MORGAN JCT</td>\n      <td>ONSHORE</td>\n      <td>ABOVEGROUND</td>\n      <td>HVL OR OTHER FLAMMABLE OR TOXIC FLUID, GAS</td>\n      <td>LPG (LIQUEFIED PETROLEUM GAS) / NGL (NATURAL G...</td>\n      <td>Not Available</td>\n      <td>...</td>\n      <td>0.0</td>\n      <td>0.0</td>\n      <td>0.0</td>\n      <td>110.0</td>\n      <td>1517.0</td>\n      <td>0.0</td>\n      <td>0.0</td>\n      <td>0.0</td>\n      <td>0.0</td>\n      <td>1627.0</td>\n    </tr>\n    <tr>\n      <th>1</th>\n      <td>2010</td>\n      <td>2010-01</td>\n      <td>2010-01-04</td>\n      <td>PORTLAND PIPELINE CORP</td>\n      <td>24-INCH MAIN LINE</td>\n      <td>ONSHORE</td>\n      <td>ABOVEGROUND</td>\n      <td>CRUDE OIL</td>\n      <td>Not Available</td>\n      <td>Not Available</td>\n      <td>...</td>\n      <td>0.0</td>\n      <td>0.0</td>\n      <td>0.0</td>\n      <td>4000.0</td>\n      <td>8.0</td>\n      <td>0.0</td>\n      <td>0.0</td>\n      <td>0.0</td>\n      <td>0.0</td>\n      <td>4008.0</td>\n    </tr>\n    <tr>\n      <th>2</th>\n      <td>2010</td>\n      <td>2010-01</td>\n      <td>2010-01-05</td>\n      <td>PETROLOGISTICS OLEFINS, LLC</td>\n      <td>Not Available</td>\n      <td>ONSHORE</td>\n      <td>ABOVEGROUND</td>\n      <td>HVL OR OTHER FLAMMABLE OR TOXIC FLUID, GAS</td>\n      <td>OTHER HVL</td>\n      <td>ETHANE</td>\n      <td>...</td>\n      <td>0.0</td>\n      <td>0.0</td>\n      <td>0.0</td>\n      <td>0.0</td>\n      <td>200.0</td>\n      <td>0.0</td>\n      <td>0.0</td>\n      <td>0.0</td>\n      <td>0.0</td>\n      <td>200.0</td>\n    </tr>\n    <tr>\n      <th>3</th>\n      <td>2010</td>\n      <td>2010-01</td>\n      <td>2010-01-06</td>\n      <td>ENBRIDGE ENERGY, LIMITED PARTNERSHIP</td>\n      <td>SUPERIOR TERMINAL</td>\n      <td>ONSHORE</td>\n      <td>UNDERGROUND</td>\n      <td>CRUDE OIL</td>\n      <td>Not Available</td>\n      <td>Not Available</td>\n      <td>...</td>\n      <td>0.0</td>\n      <td>0.0</td>\n      <td>0.0</td>\n      <td>200.0</td>\n      <td>40.0</td>\n      <td>0.0</td>\n      <td>11300.0</td>\n      <td>0.0</td>\n      <td>0.0</td>\n      <td>11540.0</td>\n    </tr>\n    <tr>\n      <th>4</th>\n      <td>2010</td>\n      <td>2010-01</td>\n      <td>2010-01-07</td>\n      <td>PLAINS PIPELINE, L.P.</td>\n      <td>RED RIVER EAST</td>\n      <td>ONSHORE</td>\n      <td>UNDERGROUND</td>\n      <td>CRUDE OIL</td>\n      <td>Not Available</td>\n      <td>Not Available</td>\n      <td>...</td>\n      <td>0.0</td>\n      <td>0.0</td>\n      <td>0.0</td>\n      <td>20000.0</td>\n      <td>150.0</td>\n      <td>0.0</td>\n      <td>7500.0</td>\n      <td>2000.0</td>\n      <td>0.0</td>\n      <td>29650.0</td>\n    </tr>\n  </tbody>\n</table>\n<p>5 rows × 38 columns</p>\n</div>"
     },
     "metadata": {},
     "execution_count": 56
    }
   ],
   "source": [
    "# Create a new DataFrame by adding a new column for Accident Month & Year\n",
    "oil_accidents_clean['Accident Year-Month'] = pd.to_datetime(oil_accidents_clean['Accident Date']).dt.to_period('M')\n",
    "accident_year_month = oil_accidents_clean['Accident Year-Month']\n",
    "oil_accidents_clean.drop(labels=['Accident Year-Month'], axis=1, inplace=True)\n",
    "oil_accidents_clean.insert(1, 'Accident Year-Month', accident_year_month)\n",
    "oil_accidents_clean.head()"
   ]
  },
  {
   "cell_type": "code",
   "execution_count": 62,
   "metadata": {},
   "outputs": [
    {
     "output_type": "stream",
     "name": "stdout",
     "text": "<class 'pandas.core.frame.DataFrame'>\nInt64Index: 2795 entries, 0 to 2794\nData columns (total 40 columns):\nCrude Oil Price                         2795 non-null float64\nPrice Year-Month                        2795 non-null period[M]\nAccident Year                           2795 non-null int64\nAccident Year-Month                     2795 non-null period[M]\nAccident Date                           2795 non-null object\nOperator Name                           2795 non-null object\nPipeline/Facility Name                  2795 non-null object\nPipeline Location                       2795 non-null object\nPipeline Type                           2795 non-null object\nLiquid Type                             2795 non-null object\nLiquid Subtype                          2795 non-null object\nLiquid Name                             2795 non-null object\nAccident City                           2795 non-null object\nAccident County                         2795 non-null object\nAccident State                          2795 non-null object\nAccident Latitude                       2795 non-null float64\nAccident Longitude                      2795 non-null float64\nCause Category                          2795 non-null object\nCause Subcategory                       2795 non-null object\nNet Loss (Barrels)                      2795 non-null float64\nPublic Evacuations                      2795 non-null float64\nOperator Employee Injuries              2795 non-null float64\nOperator Contractor Injuries            2795 non-null float64\nEmergency Responder Injuries            2795 non-null float64\nOther Injuries                          2795 non-null float64\nPublic Injuries                         2795 non-null float64\nAll Injuries                            2795 non-null float64\nOperator Employee Fatalities            2795 non-null float64\nOperator Contractor Fatalities          2795 non-null float64\nEmergency Responder Fatalities          2795 non-null float64\nOther Fatalities                        2795 non-null float64\nPublic Fatalities                       2795 non-null float64\nAll Fatalities                          2795 non-null float64\nProperty Damage Costs                   2795 non-null float64\nLost Commodity Costs                    2795 non-null float64\nPublic/Private Property Damage Costs    2795 non-null float64\nEmergency Response Costs                2795 non-null float64\nEnvironmental Remediation Costs         2795 non-null float64\nOther Costs                             2795 non-null float64\nAll Costs                               2795 non-null float64\ndtypes: float64(24), int64(1), object(13), period[M](2)\nmemory usage: 895.3+ KB\n"
    }
   ],
   "source": [
    "# Merge the Oil Prices and Oil Accidents DataFrames\n",
    "oil_prices_accidents = pd.merge(oil_prices_clean, oil_accidents_clean, how='inner', left_on='Price Year-Month', right_on='Accident Year-Month')\n",
    "#oil_prices_accidents_filtered = oil_prices_accidents.loc[(oil_prices_accidents['Price Date'] == '2010-06-01')]\n",
    "oil_prices_accidents.info()"
   ]
  },
  {
   "cell_type": "code",
   "execution_count": 66,
   "metadata": {},
   "outputs": [
    {
     "output_type": "execute_result",
     "data": {
      "text/plain": "   Crude Oil Price Price Year-Month  Accident Year Accident Year-Month  \\\n0            72.87          2010-01           2010             2010-01   \n1            72.87          2010-01           2010             2010-01   \n2            72.87          2010-01           2010             2010-01   \n3            72.87          2010-01           2010             2010-01   \n4            72.87          2010-01           2010             2010-01   \n\n  Accident Date                         Operator Name Pipeline/Facility Name  \\\n0    2010-01-01                 ONEOK NGL PIPELINE LP      KINDER MORGAN JCT   \n1    2010-01-04                PORTLAND PIPELINE CORP      24-INCH MAIN LINE   \n2    2010-01-05           PETROLOGISTICS OLEFINS, LLC          Not Available   \n3    2010-01-06  ENBRIDGE ENERGY, LIMITED PARTNERSHIP      SUPERIOR TERMINAL   \n4    2010-01-07                 PLAINS PIPELINE, L.P.         RED RIVER EAST   \n\n  Pipeline Location Pipeline Type                                 Liquid Type  \\\n0           ONSHORE   ABOVEGROUND  HVL OR OTHER FLAMMABLE OR TOXIC FLUID, GAS   \n1           ONSHORE   ABOVEGROUND                                   CRUDE OIL   \n2           ONSHORE   ABOVEGROUND  HVL OR OTHER FLAMMABLE OR TOXIC FLUID, GAS   \n3           ONSHORE   UNDERGROUND                                   CRUDE OIL   \n4           ONSHORE   UNDERGROUND                                   CRUDE OIL   \n\n   ... Other Fatalities Public Fatalities All Fatalities  \\\n0  ...              0.0               0.0            0.0   \n1  ...              0.0               0.0            0.0   \n2  ...              0.0               0.0            0.0   \n3  ...              0.0               0.0            0.0   \n4  ...              0.0               0.0            0.0   \n\n  Property Damage Costs Lost Commodity Costs  \\\n0                 110.0               1517.0   \n1                4000.0                  8.0   \n2                   0.0                200.0   \n3                 200.0                 40.0   \n4               20000.0                150.0   \n\n   Public/Private Property Damage Costs  Emergency Response Costs  \\\n0                                   0.0                       0.0   \n1                                   0.0                       0.0   \n2                                   0.0                       0.0   \n3                                   0.0                   11300.0   \n4                                   0.0                    7500.0   \n\n  Environmental Remediation Costs Other Costs  All Costs  \n0                             0.0         0.0     1627.0  \n1                             0.0         0.0     4008.0  \n2                             0.0         0.0      200.0  \n3                             0.0         0.0    11540.0  \n4                          2000.0         0.0    29650.0  \n\n[5 rows x 40 columns]",
      "text/html": "<div>\n<style scoped>\n    .dataframe tbody tr th:only-of-type {\n        vertical-align: middle;\n    }\n\n    .dataframe tbody tr th {\n        vertical-align: top;\n    }\n\n    .dataframe thead th {\n        text-align: right;\n    }\n</style>\n<table border=\"1\" class=\"dataframe\">\n  <thead>\n    <tr style=\"text-align: right;\">\n      <th></th>\n      <th>Crude Oil Price</th>\n      <th>Price Year-Month</th>\n      <th>Accident Year</th>\n      <th>Accident Year-Month</th>\n      <th>Accident Date</th>\n      <th>Operator Name</th>\n      <th>Pipeline/Facility Name</th>\n      <th>Pipeline Location</th>\n      <th>Pipeline Type</th>\n      <th>Liquid Type</th>\n      <th>...</th>\n      <th>Other Fatalities</th>\n      <th>Public Fatalities</th>\n      <th>All Fatalities</th>\n      <th>Property Damage Costs</th>\n      <th>Lost Commodity Costs</th>\n      <th>Public/Private Property Damage Costs</th>\n      <th>Emergency Response Costs</th>\n      <th>Environmental Remediation Costs</th>\n      <th>Other Costs</th>\n      <th>All Costs</th>\n    </tr>\n  </thead>\n  <tbody>\n    <tr>\n      <th>0</th>\n      <td>72.87</td>\n      <td>2010-01</td>\n      <td>2010</td>\n      <td>2010-01</td>\n      <td>2010-01-01</td>\n      <td>ONEOK NGL PIPELINE LP</td>\n      <td>KINDER MORGAN JCT</td>\n      <td>ONSHORE</td>\n      <td>ABOVEGROUND</td>\n      <td>HVL OR OTHER FLAMMABLE OR TOXIC FLUID, GAS</td>\n      <td>...</td>\n      <td>0.0</td>\n      <td>0.0</td>\n      <td>0.0</td>\n      <td>110.0</td>\n      <td>1517.0</td>\n      <td>0.0</td>\n      <td>0.0</td>\n      <td>0.0</td>\n      <td>0.0</td>\n      <td>1627.0</td>\n    </tr>\n    <tr>\n      <th>1</th>\n      <td>72.87</td>\n      <td>2010-01</td>\n      <td>2010</td>\n      <td>2010-01</td>\n      <td>2010-01-04</td>\n      <td>PORTLAND PIPELINE CORP</td>\n      <td>24-INCH MAIN LINE</td>\n      <td>ONSHORE</td>\n      <td>ABOVEGROUND</td>\n      <td>CRUDE OIL</td>\n      <td>...</td>\n      <td>0.0</td>\n      <td>0.0</td>\n      <td>0.0</td>\n      <td>4000.0</td>\n      <td>8.0</td>\n      <td>0.0</td>\n      <td>0.0</td>\n      <td>0.0</td>\n      <td>0.0</td>\n      <td>4008.0</td>\n    </tr>\n    <tr>\n      <th>2</th>\n      <td>72.87</td>\n      <td>2010-01</td>\n      <td>2010</td>\n      <td>2010-01</td>\n      <td>2010-01-05</td>\n      <td>PETROLOGISTICS OLEFINS, LLC</td>\n      <td>Not Available</td>\n      <td>ONSHORE</td>\n      <td>ABOVEGROUND</td>\n      <td>HVL OR OTHER FLAMMABLE OR TOXIC FLUID, GAS</td>\n      <td>...</td>\n      <td>0.0</td>\n      <td>0.0</td>\n      <td>0.0</td>\n      <td>0.0</td>\n      <td>200.0</td>\n      <td>0.0</td>\n      <td>0.0</td>\n      <td>0.0</td>\n      <td>0.0</td>\n      <td>200.0</td>\n    </tr>\n    <tr>\n      <th>3</th>\n      <td>72.87</td>\n      <td>2010-01</td>\n      <td>2010</td>\n      <td>2010-01</td>\n      <td>2010-01-06</td>\n      <td>ENBRIDGE ENERGY, LIMITED PARTNERSHIP</td>\n      <td>SUPERIOR TERMINAL</td>\n      <td>ONSHORE</td>\n      <td>UNDERGROUND</td>\n      <td>CRUDE OIL</td>\n      <td>...</td>\n      <td>0.0</td>\n      <td>0.0</td>\n      <td>0.0</td>\n      <td>200.0</td>\n      <td>40.0</td>\n      <td>0.0</td>\n      <td>11300.0</td>\n      <td>0.0</td>\n      <td>0.0</td>\n      <td>11540.0</td>\n    </tr>\n    <tr>\n      <th>4</th>\n      <td>72.87</td>\n      <td>2010-01</td>\n      <td>2010</td>\n      <td>2010-01</td>\n      <td>2010-01-07</td>\n      <td>PLAINS PIPELINE, L.P.</td>\n      <td>RED RIVER EAST</td>\n      <td>ONSHORE</td>\n      <td>UNDERGROUND</td>\n      <td>CRUDE OIL</td>\n      <td>...</td>\n      <td>0.0</td>\n      <td>0.0</td>\n      <td>0.0</td>\n      <td>20000.0</td>\n      <td>150.0</td>\n      <td>0.0</td>\n      <td>7500.0</td>\n      <td>2000.0</td>\n      <td>0.0</td>\n      <td>29650.0</td>\n    </tr>\n  </tbody>\n</table>\n<p>5 rows × 40 columns</p>\n</div>"
     },
     "metadata": {},
     "execution_count": 66
    }
   ],
   "source": [
    "# Inspect the merged DataFrame\n",
    "# We will see rows where we have Oil Price Data but no record of Accident data for those dates\n",
    "# Vice-versa we will also see rows where there is a recorded Accident, but Price Data is not available\n",
    "oil_prices_accidents.head()"
   ]
  },
  {
   "cell_type": "code",
   "execution_count": 89,
   "metadata": {},
   "outputs": [
    {
     "output_type": "execute_result",
     "data": {
      "text/plain": "                                     Number of Accidents\nAccident Year-Month Crude Oil Price                     \n2010-01             72.87                             34\n2010-02             72.74                             16\n2010-03             75.77                             32\n2010-04             78.80                             32\n2010-05             70.91                             30",
      "text/html": "<div>\n<style scoped>\n    .dataframe tbody tr th:only-of-type {\n        vertical-align: middle;\n    }\n\n    .dataframe tbody tr th {\n        vertical-align: top;\n    }\n\n    .dataframe thead th {\n        text-align: right;\n    }\n</style>\n<table border=\"1\" class=\"dataframe\">\n  <thead>\n    <tr style=\"text-align: right;\">\n      <th></th>\n      <th></th>\n      <th>Number of Accidents</th>\n    </tr>\n    <tr>\n      <th>Accident Year-Month</th>\n      <th>Crude Oil Price</th>\n      <th></th>\n    </tr>\n  </thead>\n  <tbody>\n    <tr>\n      <th>2010-01</th>\n      <th>72.87</th>\n      <td>34</td>\n    </tr>\n    <tr>\n      <th>2010-02</th>\n      <th>72.74</th>\n      <td>16</td>\n    </tr>\n    <tr>\n      <th>2010-03</th>\n      <th>75.77</th>\n      <td>32</td>\n    </tr>\n    <tr>\n      <th>2010-04</th>\n      <th>78.80</th>\n      <td>32</td>\n    </tr>\n    <tr>\n      <th>2010-05</th>\n      <th>70.91</th>\n      <td>30</td>\n    </tr>\n  </tbody>\n</table>\n</div>"
     },
     "metadata": {},
     "execution_count": 89
    }
   ],
   "source": [
    "oil_prices_accidents_grouped = oil_prices_accidents.groupby(['Accident Year-Month'])\n",
    "\n",
    "#accidents_by_month = oil_prices_accidents_grouped['Accident Year-Month'].count()\n",
    "oil_prices_accidents_by_yearmonth = oil_prices_accidents_grouped['Crude Oil Price'].value_counts()\n",
    "\n",
    "oil_prices_accidents_summary = pd.DataFrame(oil_prices_accidents_by_yearmonth)\n",
    "\n",
    "oil_prices_accidents_summary.rename(columns = {'Crude Oil Price':'Number of Accidents'}, inplace=True)\n",
    "oil_prices_accidents_summary.head()\n"
   ]
  },
  {
   "cell_type": "code",
   "execution_count": null,
   "metadata": {},
   "outputs": [],
   "source": []
  }
 ],
 "metadata": {
  "language_info": {
   "codemirror_mode": {
    "name": "ipython",
    "version": 3
   },
   "file_extension": ".py",
   "mimetype": "text/x-python",
   "name": "python",
   "nbconvert_exporter": "python",
   "pygments_lexer": "ipython3",
   "version": "3.7.5-final"
  },
  "orig_nbformat": 2,
  "kernelspec": {
   "name": "python37564bitpythondatacondac30bd6fcf4694af7948ebff9c485f105",
   "display_name": "Python 3.7.5 64-bit ('PythonData': conda)"
  }
 },
 "nbformat": 4,
 "nbformat_minor": 2
}