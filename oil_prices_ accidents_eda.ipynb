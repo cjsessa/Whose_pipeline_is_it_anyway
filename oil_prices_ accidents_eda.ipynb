{
 "cells": [
  {
   "cell_type": "markdown",
   "metadata": {},
   "source": [
    "## Dependencies & Setup"
   ]
  },
  {
   "cell_type": "code",
   "execution_count": 43,
   "metadata": {},
   "outputs": [],
   "source": [
    "import pandas as pd\n",
    "import numpy as np\n",
    "import matplotlib.pyplot as plt\n",
    "import seaborn as sns"
   ]
  },
  {
   "cell_type": "markdown",
   "metadata": {},
   "source": [
    "## Load Oil Prices Data File"
   ]
  },
  {
   "cell_type": "code",
   "execution_count": 44,
   "metadata": {},
   "outputs": [],
   "source": [
    "# Paths to Oil DOW Prices Data File\n",
    "oil_dow_prices_file = \"data/oil_dow_prices.csv\"\n",
    "\n",
    "# Read the data files using Pandas\n",
    "oil_prices = pd.read_csv(oil_dow_prices_file)"
   ]
  },
  {
   "cell_type": "markdown",
   "metadata": {},
   "source": [
    "## Cleanup & Inspect Oil Prices Data"
   ]
  },
  {
   "cell_type": "code",
   "execution_count": 45,
   "metadata": {},
   "outputs": [
    {
     "output_type": "stream",
     "name": "stdout",
     "text": "<class 'pandas.core.frame.DataFrame'>\nInt64Index: 96 entries, 300 to 395\nData columns (total 2 columns):\nDate               96 non-null object\nCrude Oil Price    96 non-null float64\ndtypes: float64(1), object(1)\nmemory usage: 2.2+ KB\n           Date  Crude Oil Price\n300  2010-01-01            72.87\n301  2010-02-01            72.74\n302  2010-03-01            75.77\n303  2010-04-01            78.80\n304  2010-05-01            70.91\n..          ...              ...\n391  2017-08-01            44.96\n392  2017-09-01            47.17\n393  2017-10-01            49.12\n394  2017-11-01            55.19\n395  2017-12-01            56.98\n\n[96 rows x 2 columns]\n"
    }
   ],
   "source": [
    "# Drop unwanted columns from Oil Prices DataFrame\n",
    "oil_prices.drop(['Unnamed: 0', 'Close Price'], axis=1, inplace=True)\n",
    "# Rename columns\n",
    "oil_prices.rename(columns = {'date':'Date', 'Crude_Oil_Price':'Crude Oil Price'}, inplace=True)\n",
    "\n",
    "# Filter DataFrame for oil prices between 2010 and 2017 \n",
    "start_date = \"2010-01-01\"\n",
    "end_date = \"2017-12-01\"\n",
    "oil_prices = oil_prices.loc[(oil_prices['Date'] >= start_date) & (oil_prices['Date'] <= end_date)]\n",
    "oil_prices.info()\n",
    "print(oil_prices)"
   ]
  },
  {
   "cell_type": "markdown",
   "metadata": {},
   "source": [
    "## Load Oil Pipeline Accidents Data File"
   ]
  },
  {
   "cell_type": "code",
   "execution_count": 46,
   "metadata": {},
   "outputs": [],
   "source": [
    "# Paths to Oil Pipeline Accidents Data File\n",
    "oil_pipeline_accidents_file = \"data/Oil_Pipeline_Accidents_2010-2017.csv\"\n",
    "\n",
    "# Read the data file using Pandas\n",
    "oil_accidents = pd.read_csv(oil_pipeline_accidents_file)"
   ]
  },
  {
   "cell_type": "markdown",
   "metadata": {},
   "source": [
    "## Cleanup Oil Pipeline Accidents Data"
   ]
  },
  {
   "cell_type": "code",
   "execution_count": 47,
   "metadata": {},
   "outputs": [
    {
     "output_type": "stream",
     "name": "stdout",
     "text": "<class 'pandas.core.frame.DataFrame'>\nRangeIndex: 2795 entries, 0 to 2794\nData columns (total 48 columns):\nReport Number                           2795 non-null int64\nSupplemental Number                     2795 non-null int64\nAccident Year                           2795 non-null int64\nAccident Date/Time                      2795 non-null object\nOperator ID                             2795 non-null int64\nOperator Name                           2795 non-null object\nPipeline/Facility Name                  2674 non-null object\nPipeline Location                       2795 non-null object\nPipeline Type                           2777 non-null object\nLiquid Type                             2795 non-null object\nLiquid Subtype                          1349 non-null object\nLiquid Name                             222 non-null object\nAccident City                           2480 non-null object\nAccident County                         2720 non-null object\nAccident State                          2783 non-null object\nAccident Latitude                       2795 non-null float64\nAccident Longitude                      2795 non-null float64\nCause Category                          2795 non-null object\nCause Subcategory                       2795 non-null object\nUnintentional Release (Barrels)         2795 non-null float64\nIntentional Release (Barrels)           1209 non-null float64\nLiquid Recovery (Barrels)               2795 non-null float64\nNet Loss (Barrels)                      2795 non-null float64\nLiquid Ignition                         2795 non-null object\nLiquid Explosion                        2795 non-null object\nPipeline Shutdown                       2583 non-null object\nShutdown Date/Time                      1390 non-null object\nRestart Date/Time                       1341 non-null object\nPublic Evacuations                      2338 non-null float64\nOperator Employee Injuries              12 non-null float64\nOperator Contractor Injuries            12 non-null float64\nEmergency Responder Injuries            12 non-null float64\nOther Injuries                          12 non-null float64\nPublic Injuries                         12 non-null float64\nAll Injuries                            12 non-null float64\nOperator Employee Fatalities            8 non-null float64\nOperator Contractor Fatalities          8 non-null float64\nEmergency Responder Fatalities          8 non-null float64\nOther Fatalities                        8 non-null float64\nPublic Fatalities                       8 non-null float64\nAll Fatalities                          8 non-null float64\nProperty Damage Costs                   2788 non-null float64\nLost Commodity Costs                    2791 non-null float64\nPublic/Private Property Damage Costs    2785 non-null float64\nEmergency Response Costs                2789 non-null float64\nEnvironmental Remediation Costs         2787 non-null float64\nOther Costs                             2779 non-null float64\nAll Costs                               2795 non-null int64\ndtypes: float64(25), int64(5), object(18)\nmemory usage: 1.0+ MB\n"
    }
   ],
   "source": [
    "# Inspect columns from Oil Accidents DataFrame\n",
    "oil_accidents.info()"
   ]
  },
  {
   "cell_type": "code",
   "execution_count": 48,
   "metadata": {},
   "outputs": [
    {
     "output_type": "stream",
     "name": "stdout",
     "text": "<class 'pandas.core.frame.DataFrame'>\nRangeIndex: 2795 entries, 0 to 2794\nData columns (total 38 columns):\nAccident Year                           2795 non-null int64\nAccident Date/Time                      2795 non-null object\nOperator ID                             2795 non-null int64\nOperator Name                           2795 non-null object\nPipeline/Facility Name                  2674 non-null object\nPipeline Location                       2795 non-null object\nPipeline Type                           2777 non-null object\nLiquid Type                             2795 non-null object\nLiquid Subtype                          1349 non-null object\nLiquid Name                             222 non-null object\nAccident City                           2480 non-null object\nAccident County                         2720 non-null object\nAccident State                          2783 non-null object\nAccident Latitude                       2795 non-null float64\nAccident Longitude                      2795 non-null float64\nCause Category                          2795 non-null object\nCause Subcategory                       2795 non-null object\nNet Loss (Barrels)                      2795 non-null float64\nPublic Evacuations                      2338 non-null float64\nOperator Employee Injuries              12 non-null float64\nOperator Contractor Injuries            12 non-null float64\nEmergency Responder Injuries            12 non-null float64\nOther Injuries                          12 non-null float64\nPublic Injuries                         12 non-null float64\nAll Injuries                            12 non-null float64\nOperator Employee Fatalities            8 non-null float64\nOperator Contractor Fatalities          8 non-null float64\nEmergency Responder Fatalities          8 non-null float64\nOther Fatalities                        8 non-null float64\nPublic Fatalities                       8 non-null float64\nAll Fatalities                          8 non-null float64\nProperty Damage Costs                   2788 non-null float64\nLost Commodity Costs                    2791 non-null float64\nPublic/Private Property Damage Costs    2785 non-null float64\nEmergency Response Costs                2789 non-null float64\nEnvironmental Remediation Costs         2787 non-null float64\nOther Costs                             2779 non-null float64\nAll Costs                               2795 non-null int64\ndtypes: float64(22), int64(3), object(13)\nmemory usage: 829.9+ KB\n"
    }
   ],
   "source": [
    "# Drop unwanted columns from Oil Accidents DataFrame\n",
    "oil_accidents.drop(['Report Number', 'Supplemental Number', 'Unintentional Release (Barrels)', 'Intentional Release (Barrels)', 'Liquid Recovery (Barrels)', 'Liquid Ignition', 'Liquid Explosion', 'Pipeline Shutdown', 'Shutdown Date/Time', 'Restart Date/Time'], axis=1, inplace=True)\n",
    "\n",
    "# Fill missing/blank values in DataFrame\n",
    "# fill_values = {'Pipeline/Facility Name': 'Not Available', 'Pipeline Type': 'Not Available', 'Liquid Subtype': 'Not Available', 'Liquid Name': 'Not Available', 'Accident City': 'Not Available', 'Accident County': 'Not Available', 'Accident State': 'Not Available', ''}\n",
    "\n",
    "#oil_accidents.fillna(inplace=True)\n",
    "oil_accidents.info()"
   ]
  },
  {
   "cell_type": "code",
   "execution_count": null,
   "metadata": {},
   "outputs": [],
   "source": []
  }
 ],
 "metadata": {
  "language_info": {
   "codemirror_mode": {
    "name": "ipython",
    "version": 3
   },
   "file_extension": ".py",
   "mimetype": "text/x-python",
   "name": "python",
   "nbconvert_exporter": "python",
   "pygments_lexer": "ipython3",
   "version": "3.7.5-final"
  },
  "orig_nbformat": 2,
  "kernelspec": {
   "name": "python37564bitpythondatacondac30bd6fcf4694af7948ebff9c485f105",
   "display_name": "Python 3.7.5 64-bit ('PythonData': conda)"
  }
 },
 "nbformat": 4,
 "nbformat_minor": 2
}