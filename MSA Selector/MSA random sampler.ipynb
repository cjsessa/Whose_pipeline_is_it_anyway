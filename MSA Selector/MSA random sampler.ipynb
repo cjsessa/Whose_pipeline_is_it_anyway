{
 "cells": [
  {
   "cell_type": "code",
   "execution_count": 35,
   "metadata": {},
   "outputs": [
    {
     "data": {
      "text/html": [
       "<div>\n",
       "<style scoped>\n",
       "    .dataframe tbody tr th:only-of-type {\n",
       "        vertical-align: middle;\n",
       "    }\n",
       "\n",
       "    .dataframe tbody tr th {\n",
       "        vertical-align: top;\n",
       "    }\n",
       "\n",
       "    .dataframe thead th {\n",
       "        text-align: right;\n",
       "    }\n",
       "</style>\n",
       "<table border=\"1\" class=\"dataframe\">\n",
       "  <thead>\n",
       "    <tr style=\"text-align: right;\">\n",
       "      <th></th>\n",
       "      <th>MSA</th>\n",
       "    </tr>\n",
       "  </thead>\n",
       "  <tbody>\n",
       "    <tr>\n",
       "      <th>0</th>\n",
       "      <td>Pittsburgh-New Castle-Weirton, PA-OH-WV</td>\n",
       "    </tr>\n",
       "    <tr>\n",
       "      <th>1</th>\n",
       "      <td>Cincinnati-Wilmington-Maysville, OH-KY-IN</td>\n",
       "    </tr>\n",
       "    <tr>\n",
       "      <th>2</th>\n",
       "      <td>Chico, CA</td>\n",
       "    </tr>\n",
       "    <tr>\n",
       "      <th>3</th>\n",
       "      <td>Atlanta-Athens-Clarke County-Sandy Springs, G...</td>\n",
       "    </tr>\n",
       "    <tr>\n",
       "      <th>4</th>\n",
       "      <td>Brownsville-Harlingen-Raymondville, TX</td>\n",
       "    </tr>\n",
       "  </tbody>\n",
       "</table>\n",
       "</div>"
      ],
      "text/plain": [
       "                                                 MSA\n",
       "0            Pittsburgh-New Castle-Weirton, PA-OH-WV\n",
       "1          Cincinnati-Wilmington-Maysville, OH-KY-IN\n",
       "2                                          Chico, CA\n",
       "3   Atlanta-Athens-Clarke County-Sandy Springs, G...\n",
       "4             Brownsville-Harlingen-Raymondville, TX"
      ]
     },
     "execution_count": 35,
     "metadata": {},
     "output_type": "execute_result"
    }
   ],
   "source": [
    "import pandas as pd\n",
    "import random\n",
    "\n",
    "# The data to load\n",
    "f = \"msa.csv\"\n",
    "\n",
    "# Count the lines\n",
    "num_lines = sum(1 for l in open(f))\n",
    "\n",
    "# Sample size - retrieving header and 5 MSA's\n",
    "size = 6\n",
    "\n",
    "# The row indices to skip - make sure 0 is not included to keep the header\n",
    "skip_idx = random.sample(range(1, num_lines), num_lines - size)\n",
    "\n",
    "# Read the data\n",
    "data = pd.read_csv(f, skiprows=skip_idx)\n",
    "\n",
    "# Display the sample\n",
    "data"
   ]
  }
 ],
 "metadata": {
  "kernelspec": {
   "display_name": "Python 3",
   "language": "python",
   "name": "python3"
  },
  "language_info": {
   "codemirror_mode": {
    "name": "ipython",
    "version": 3
   },
   "file_extension": ".py",
   "mimetype": "text/x-python",
   "name": "python",
   "nbconvert_exporter": "python",
   "pygments_lexer": "ipython3",
   "version": "3.6.9"
  }
 },
 "nbformat": 4,
 "nbformat_minor": 2
}
