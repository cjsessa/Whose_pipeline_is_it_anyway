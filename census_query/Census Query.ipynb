{
 "cells": [
  {
   "cell_type": "code",
   "execution_count": 61,
   "metadata": {},
   "outputs": [],
   "source": [
    "import requests\n",
    "import json\n",
    "from pprint import pprint\n",
    "import pandas as pd\n",
    "from config import api_key"
   ]
  },
  {
   "cell_type": "code",
   "execution_count": 62,
   "metadata": {},
   "outputs": [],
   "source": [
    "state = '06'\n",
    "county = '075'\n",
    "year = '2016'\n",
    "variables_interest = ['NAICS2012_TTL,EMP,ESTAB']\n",
    "# pulling sectors for mining/quarring, utilities, construction, manufactoring, & wholesale trade\n",
    "sectors = [\"31-33\",\"21\",\"22\",\"42\",\"48-49\"]\n",
    "base_url = f\"https://api.census.gov/data/{year}/cbp?get={variables_interest[0]}&NAICS2012={sectors[0]}&NAICS2012={sectors[1]}&NAICS2012={sectors[2]}&NAICS2012={sectors[3]}&NAICS2012={sectors[4]}&for=county:{county}&in=state:{state}&key={api_key}\"\n",
    "# base_url = f\"https://api.census.gov/data/{year}/cbp?get={variables_interest[0]}&NAICS2012={sectors[0]}&for=county:*&in=state:{state}&key={api_key}\"\n",
    "response = requests.get(base_url).json()\n",
    "\n"
   ]
  },
  {
   "cell_type": "code",
   "execution_count": 60,
   "metadata": {},
   "outputs": [
    {
     "data": {
      "text/plain": [
       "[['NAICS2012_TTL', 'EMP', 'ESTAB', 'NAICS2012', 'state', 'county'],\n",
       " ['Mining, quarrying, and oil and gas extraction',\n",
       "  '49',\n",
       "  '6',\n",
       "  '21',\n",
       "  '06',\n",
       "  '075'],\n",
       " ['Utilities', '0', '15', '22', '06', '075'],\n",
       " ['Manufacturing', '7894', '725', '31-33', '06', '075'],\n",
       " ['Wholesale trade', '15483', '1183', '42', '06', '075'],\n",
       " ['Transportation and warehousing', '8859', '395', '48-49', '06', '075']]"
      ]
     },
     "execution_count": 60,
     "metadata": {},
     "output_type": "execute_result"
    }
   ],
   "source": [
    "response"
   ]
  },
  {
   "cell_type": "code",
   "execution_count": 59,
   "metadata": {},
   "outputs": [
    {
     "data": {
      "text/html": [
       "<div>\n",
       "<style scoped>\n",
       "    .dataframe tbody tr th:only-of-type {\n",
       "        vertical-align: middle;\n",
       "    }\n",
       "\n",
       "    .dataframe tbody tr th {\n",
       "        vertical-align: top;\n",
       "    }\n",
       "\n",
       "    .dataframe thead th {\n",
       "        text-align: right;\n",
       "    }\n",
       "</style>\n",
       "<table border=\"1\" class=\"dataframe\">\n",
       "  <thead>\n",
       "    <tr style=\"text-align: right;\">\n",
       "      <th></th>\n",
       "      <th>NAICS2012_TTL</th>\n",
       "      <th>EMP</th>\n",
       "      <th>ESTAB</th>\n",
       "      <th>NAICS2012</th>\n",
       "      <th>State</th>\n",
       "      <th>County</th>\n",
       "    </tr>\n",
       "  </thead>\n",
       "  <tbody>\n",
       "    <tr>\n",
       "      <td>1</td>\n",
       "      <td>Mining, quarrying, and oil and gas extraction</td>\n",
       "      <td>49</td>\n",
       "      <td>6</td>\n",
       "      <td>21</td>\n",
       "      <td>06</td>\n",
       "      <td>075</td>\n",
       "    </tr>\n",
       "    <tr>\n",
       "      <td>2</td>\n",
       "      <td>Utilities</td>\n",
       "      <td>0</td>\n",
       "      <td>15</td>\n",
       "      <td>22</td>\n",
       "      <td>06</td>\n",
       "      <td>075</td>\n",
       "    </tr>\n",
       "    <tr>\n",
       "      <td>3</td>\n",
       "      <td>Manufacturing</td>\n",
       "      <td>7894</td>\n",
       "      <td>725</td>\n",
       "      <td>31-33</td>\n",
       "      <td>06</td>\n",
       "      <td>075</td>\n",
       "    </tr>\n",
       "    <tr>\n",
       "      <td>4</td>\n",
       "      <td>Wholesale trade</td>\n",
       "      <td>15483</td>\n",
       "      <td>1183</td>\n",
       "      <td>42</td>\n",
       "      <td>06</td>\n",
       "      <td>075</td>\n",
       "    </tr>\n",
       "    <tr>\n",
       "      <td>5</td>\n",
       "      <td>Transportation and warehousing</td>\n",
       "      <td>8859</td>\n",
       "      <td>395</td>\n",
       "      <td>48-49</td>\n",
       "      <td>06</td>\n",
       "      <td>075</td>\n",
       "    </tr>\n",
       "  </tbody>\n",
       "</table>\n",
       "</div>"
      ],
      "text/plain": [
       "                                   NAICS2012_TTL    EMP ESTAB NAICS2012 State  \\\n",
       "1  Mining, quarrying, and oil and gas extraction     49     6        21    06   \n",
       "2                                      Utilities      0    15        22    06   \n",
       "3                                  Manufacturing   7894   725     31-33    06   \n",
       "4                                Wholesale trade  15483  1183        42    06   \n",
       "5                 Transportation and warehousing   8859   395     48-49    06   \n",
       "\n",
       "  County  \n",
       "1    075  \n",
       "2    075  \n",
       "3    075  \n",
       "4    075  \n",
       "5    075  "
      ]
     },
     "execution_count": 59,
     "metadata": {},
     "output_type": "execute_result"
    }
   ],
   "source": [
    "columns = ['NAICS2012_TTL','EMP','ESTAB','NAICS2012',\"State\",\"County\"]\n",
    "df = pd.DataFrame(data = response,columns=columns)\n",
    "df.drop(df.index[0])"
   ]
  }
 ],
 "metadata": {
  "kernelspec": {
   "display_name": "Python 3",
   "language": "python",
   "name": "python3"
  },
  "language_info": {
   "codemirror_mode": {
    "name": "ipython",
    "version": 3
   },
   "file_extension": ".py",
   "mimetype": "text/x-python",
   "name": "python",
   "nbconvert_exporter": "python",
   "pygments_lexer": "ipython3",
   "version": "3.7.4"
  }
 },
 "nbformat": 4,
 "nbformat_minor": 2
}
